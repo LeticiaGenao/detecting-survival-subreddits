{
 "cells": [
  {
   "cell_type": "markdown",
   "metadata": {},
   "source": [
    "# Project 3: Identifying Wilderness vs Zombie Survival Subreddits using API & NLP\n",
    "#### By: _Leticia G._"
   ]
  },
  {
   "cell_type": "markdown",
   "metadata": {},
   "source": [
    "# Problem Statement\n",
    "A popular forum social media, Reddit is a site where people can share posts, creates polls, and vote on good or bad posts by up and down voting them. Centered around sharing opinions, seeking advice, and engaging in discourse in specified subreddits on topics Reddit is a useful site to learn about people's thoughts regarding a news, products, shows, and other topics. This project aims to develop classification models that can correctly specify which of two subreddits a post originated from based on the title and description of the post. The subreddit of choice are \"Survival\" which provides wilderness survival tips, and \"Zombie Survival Tactics\" which provide advice if there were ever a zombie apocalypse. This project aims to discover useful insights for the movie and television production market to see what survivalists and preppers discuss or desire.\n"
   ]
  },
  {
   "cell_type": "markdown",
   "metadata": {},
   "source": [
    "# Background Info/Outside Research:\n",
    "3.7 million Americans classify themselves as survivalists and list some of their biggest concerns as economic collapse, grid failure, natural disasters, and terrorist attack. This community prepares for the worst with reddit as place they turn to for advice and podcasts like \"The Survival Podcast\", \"The Survival Show\", \"The Survivalist Prepper Podcast\" and shows like DoomsDay Preppers. A portion of these survivalists, approximately 14% according to a poll ran by You Gov, have a zombie survival plan prepared. 24% of these survivalists are Millennials, 15% being Generation X, and 6% being Boomers.\n",
    "\n",
    "According to Allied Market Research the \"emergency management\" industry, which the survivalist market falls under, is valued at $107 billion dollars. Needless to say, there is a huge opportunity to appeal to and cash in on."
   ]
  },
  {
   "cell_type": "markdown",
   "metadata": {},
   "source": [
    "## Imports"
   ]
  },
  {
   "cell_type": "code",
   "execution_count": 2,
   "metadata": {},
   "outputs": [],
   "source": [
    "import re\n",
    "import requests\n",
    "import time\n",
    "import datetime as dt\n",
    "import pandas as pd\n",
    "import numpy as np\n",
    "import seaborn as sns\n",
    "import matplotlib.pyplot as plt\n",
    "\n",
    "# NLP lesson\n",
    "from nltk.corpus import stopwords\n",
    "import nltk\n",
    "# nltk.download('punkt')\n",
    "\n",
    "# NLP II lesson\n",
    "from sklearn.model_selection import train_test_split, GridSearchCV\n",
    "from sklearn.pipeline import Pipeline\n",
    "from sklearn.naive_bayes import MultinomialNB\n",
    "from sklearn.linear_model import LogisticRegression\n",
    "from sklearn.metrics import confusion_matrix, plot_confusion_matrix\n",
    "from sklearn.metrics import accuracy_score,recall_score,precision_score,f1_score\n",
    "\n",
    "# Import CountVectorizer and TFIDFVectorizer from feature_extraction.text.\n",
    "from sklearn.feature_extraction.text import CountVectorizer, TfidfVectorizer\n",
    "from sklearn.feature_extraction.text import TfidfTransformer\n",
    "from sklearn.ensemble import RandomForestClassifier"
   ]
  },
  {
   "cell_type": "markdown",
   "metadata": {},
   "source": [
    "## Check the data, clean, drop unnecessary columns, nulls, and concat reddits into one database"
   ]
  },
  {
   "cell_type": "code",
   "execution_count": 3,
   "metadata": {},
   "outputs": [],
   "source": [
    "# Code noted from Noah Christiansen's GA Instructor's Review\n",
    "\n",
    "def query_pushshift(subreddit, kind = 'submission', day_window = 10, n = 80):\n",
    "    SUBFIELDS = ['title', 'selftext', 'subreddit', 'created_utc', 'author', 'num_comments', 'score', 'is_self']\n",
    "    \n",
    "    # Establish base url and stem for iteration of multiple subreddits\n",
    "    BASE_URL = f\"https://api.pushshift.io/reddit/search/{kind}\" # aka \"API endpoint\"\n",
    "    stem = f\"{BASE_URL}?subreddit={subreddit}&size=100\" # we are pulling the max number of posts, size 100.\n",
    "\n",
    "    # Instantiate empty list for temp storage of posts\n",
    "    posts = []\n",
    "    \n",
    "    # Implement for loop with `time.sleep(2)` \n",
    "    # Pull posts from json after requesting URL, ensure no errors,and append to df, repeat.\n",
    "    for i in range(1, n + 1):\n",
    "        # create custom URL using `after`\n",
    "        URL = f\"{stem}&after={day_window*i}d\"\n",
    "        print(\"Querying from: \" + URL)\n",
    "        res = requests.get(URL)\n",
    "        assert res.status_code == 200\n",
    "        json = res.json()['data']\n",
    "        df = pd.DataFrame(json)\n",
    "        posts.append(df)\n",
    "        time.sleep(2)\n",
    "    \n",
    "    # pd.concat storage list to build full dataframe\n",
    "    full = pd.concat(posts)\n",
    "    \n",
    "    # If submission posts then select columns, drop duplicates, is_self=True, and create the full dataframe\n",
    "    if kind == \"submission\":\n",
    "        # Select only the desired columns from the information\n",
    "        full = full[SUBFIELDS].copy()\n",
    "        \n",
    "        # Drop any duplicate posts\n",
    "        full.drop_duplicates(inplace = True)\n",
    "        \n",
    "        # select `is_self` == True\n",
    "        full = full.loc[full[\"is_self\"] == True]\n",
    "\n",
    "    # Create `timestamp` column converted from UTC\n",
    "    full[\"timestamp\"] = full[\"created_utc\"].map(dt.date.fromtimestamp)\n",
    "    \n",
    "    print(\"Query complete!\")\n",
    "    return full"
   ]
  },
  {
   "cell_type": "code",
   "execution_count": 4,
   "metadata": {},
   "outputs": [
    {
     "name": "stdout",
     "output_type": "stream",
     "text": [
      "Querying from: https://api.pushshift.io/reddit/search/submission?subreddit=Survival&size=100&after=10d\n",
      "Querying from: https://api.pushshift.io/reddit/search/submission?subreddit=Survival&size=100&after=20d\n",
      "Querying from: https://api.pushshift.io/reddit/search/submission?subreddit=Survival&size=100&after=30d\n",
      "Querying from: https://api.pushshift.io/reddit/search/submission?subreddit=Survival&size=100&after=40d\n",
      "Querying from: https://api.pushshift.io/reddit/search/submission?subreddit=Survival&size=100&after=50d\n",
      "Querying from: https://api.pushshift.io/reddit/search/submission?subreddit=Survival&size=100&after=60d\n",
      "Querying from: https://api.pushshift.io/reddit/search/submission?subreddit=Survival&size=100&after=70d\n",
      "Querying from: https://api.pushshift.io/reddit/search/submission?subreddit=Survival&size=100&after=80d\n",
      "Querying from: https://api.pushshift.io/reddit/search/submission?subreddit=Survival&size=100&after=90d\n",
      "Querying from: https://api.pushshift.io/reddit/search/submission?subreddit=Survival&size=100&after=100d\n",
      "Querying from: https://api.pushshift.io/reddit/search/submission?subreddit=Survival&size=100&after=110d\n",
      "Querying from: https://api.pushshift.io/reddit/search/submission?subreddit=Survival&size=100&after=120d\n",
      "Querying from: https://api.pushshift.io/reddit/search/submission?subreddit=Survival&size=100&after=130d\n",
      "Querying from: https://api.pushshift.io/reddit/search/submission?subreddit=Survival&size=100&after=140d\n",
      "Querying from: https://api.pushshift.io/reddit/search/submission?subreddit=Survival&size=100&after=150d\n",
      "Querying from: https://api.pushshift.io/reddit/search/submission?subreddit=Survival&size=100&after=160d\n",
      "Querying from: https://api.pushshift.io/reddit/search/submission?subreddit=Survival&size=100&after=170d\n",
      "Querying from: https://api.pushshift.io/reddit/search/submission?subreddit=Survival&size=100&after=180d\n",
      "Querying from: https://api.pushshift.io/reddit/search/submission?subreddit=Survival&size=100&after=190d\n",
      "Querying from: https://api.pushshift.io/reddit/search/submission?subreddit=Survival&size=100&after=200d\n",
      "Querying from: https://api.pushshift.io/reddit/search/submission?subreddit=Survival&size=100&after=210d\n",
      "Querying from: https://api.pushshift.io/reddit/search/submission?subreddit=Survival&size=100&after=220d\n",
      "Querying from: https://api.pushshift.io/reddit/search/submission?subreddit=Survival&size=100&after=230d\n",
      "Querying from: https://api.pushshift.io/reddit/search/submission?subreddit=Survival&size=100&after=240d\n",
      "Querying from: https://api.pushshift.io/reddit/search/submission?subreddit=Survival&size=100&after=250d\n",
      "Querying from: https://api.pushshift.io/reddit/search/submission?subreddit=Survival&size=100&after=260d\n",
      "Querying from: https://api.pushshift.io/reddit/search/submission?subreddit=Survival&size=100&after=270d\n",
      "Querying from: https://api.pushshift.io/reddit/search/submission?subreddit=Survival&size=100&after=280d\n",
      "Querying from: https://api.pushshift.io/reddit/search/submission?subreddit=Survival&size=100&after=290d\n",
      "Querying from: https://api.pushshift.io/reddit/search/submission?subreddit=Survival&size=100&after=300d\n",
      "Querying from: https://api.pushshift.io/reddit/search/submission?subreddit=Survival&size=100&after=310d\n",
      "Querying from: https://api.pushshift.io/reddit/search/submission?subreddit=Survival&size=100&after=320d\n",
      "Querying from: https://api.pushshift.io/reddit/search/submission?subreddit=Survival&size=100&after=330d\n",
      "Querying from: https://api.pushshift.io/reddit/search/submission?subreddit=Survival&size=100&after=340d\n",
      "Querying from: https://api.pushshift.io/reddit/search/submission?subreddit=Survival&size=100&after=350d\n",
      "Querying from: https://api.pushshift.io/reddit/search/submission?subreddit=Survival&size=100&after=360d\n",
      "Querying from: https://api.pushshift.io/reddit/search/submission?subreddit=Survival&size=100&after=370d\n",
      "Querying from: https://api.pushshift.io/reddit/search/submission?subreddit=Survival&size=100&after=380d\n",
      "Querying from: https://api.pushshift.io/reddit/search/submission?subreddit=Survival&size=100&after=390d\n",
      "Querying from: https://api.pushshift.io/reddit/search/submission?subreddit=Survival&size=100&after=400d\n",
      "Querying from: https://api.pushshift.io/reddit/search/submission?subreddit=Survival&size=100&after=410d\n",
      "Querying from: https://api.pushshift.io/reddit/search/submission?subreddit=Survival&size=100&after=420d\n",
      "Querying from: https://api.pushshift.io/reddit/search/submission?subreddit=Survival&size=100&after=430d\n",
      "Querying from: https://api.pushshift.io/reddit/search/submission?subreddit=Survival&size=100&after=440d\n",
      "Querying from: https://api.pushshift.io/reddit/search/submission?subreddit=Survival&size=100&after=450d\n",
      "Querying from: https://api.pushshift.io/reddit/search/submission?subreddit=Survival&size=100&after=460d\n",
      "Querying from: https://api.pushshift.io/reddit/search/submission?subreddit=Survival&size=100&after=470d\n",
      "Querying from: https://api.pushshift.io/reddit/search/submission?subreddit=Survival&size=100&after=480d\n",
      "Querying from: https://api.pushshift.io/reddit/search/submission?subreddit=Survival&size=100&after=490d\n",
      "Querying from: https://api.pushshift.io/reddit/search/submission?subreddit=Survival&size=100&after=500d\n",
      "Querying from: https://api.pushshift.io/reddit/search/submission?subreddit=Survival&size=100&after=510d\n",
      "Querying from: https://api.pushshift.io/reddit/search/submission?subreddit=Survival&size=100&after=520d\n",
      "Querying from: https://api.pushshift.io/reddit/search/submission?subreddit=Survival&size=100&after=530d\n",
      "Querying from: https://api.pushshift.io/reddit/search/submission?subreddit=Survival&size=100&after=540d\n",
      "Querying from: https://api.pushshift.io/reddit/search/submission?subreddit=Survival&size=100&after=550d\n",
      "Querying from: https://api.pushshift.io/reddit/search/submission?subreddit=Survival&size=100&after=560d\n",
      "Querying from: https://api.pushshift.io/reddit/search/submission?subreddit=Survival&size=100&after=570d\n",
      "Querying from: https://api.pushshift.io/reddit/search/submission?subreddit=Survival&size=100&after=580d\n",
      "Querying from: https://api.pushshift.io/reddit/search/submission?subreddit=Survival&size=100&after=590d\n",
      "Querying from: https://api.pushshift.io/reddit/search/submission?subreddit=Survival&size=100&after=600d\n",
      "Querying from: https://api.pushshift.io/reddit/search/submission?subreddit=Survival&size=100&after=610d\n",
      "Querying from: https://api.pushshift.io/reddit/search/submission?subreddit=Survival&size=100&after=620d\n",
      "Querying from: https://api.pushshift.io/reddit/search/submission?subreddit=Survival&size=100&after=630d\n",
      "Querying from: https://api.pushshift.io/reddit/search/submission?subreddit=Survival&size=100&after=640d\n",
      "Querying from: https://api.pushshift.io/reddit/search/submission?subreddit=Survival&size=100&after=650d\n",
      "Querying from: https://api.pushshift.io/reddit/search/submission?subreddit=Survival&size=100&after=660d\n",
      "Querying from: https://api.pushshift.io/reddit/search/submission?subreddit=Survival&size=100&after=670d\n",
      "Querying from: https://api.pushshift.io/reddit/search/submission?subreddit=Survival&size=100&after=680d\n",
      "Querying from: https://api.pushshift.io/reddit/search/submission?subreddit=Survival&size=100&after=690d\n",
      "Querying from: https://api.pushshift.io/reddit/search/submission?subreddit=Survival&size=100&after=700d\n",
      "Querying from: https://api.pushshift.io/reddit/search/submission?subreddit=Survival&size=100&after=710d\n",
      "Querying from: https://api.pushshift.io/reddit/search/submission?subreddit=Survival&size=100&after=720d\n",
      "Querying from: https://api.pushshift.io/reddit/search/submission?subreddit=Survival&size=100&after=730d\n",
      "Querying from: https://api.pushshift.io/reddit/search/submission?subreddit=Survival&size=100&after=740d\n",
      "Querying from: https://api.pushshift.io/reddit/search/submission?subreddit=Survival&size=100&after=750d\n",
      "Querying from: https://api.pushshift.io/reddit/search/submission?subreddit=Survival&size=100&after=760d\n",
      "Querying from: https://api.pushshift.io/reddit/search/submission?subreddit=Survival&size=100&after=770d\n",
      "Querying from: https://api.pushshift.io/reddit/search/submission?subreddit=Survival&size=100&after=780d\n",
      "Querying from: https://api.pushshift.io/reddit/search/submission?subreddit=Survival&size=100&after=790d\n",
      "Querying from: https://api.pushshift.io/reddit/search/submission?subreddit=Survival&size=100&after=800d\n",
      "Query complete!\n"
     ]
    }
   ],
   "source": [
    "reddit_1 = query_pushshift(\"Survival\")\n",
    "#gathering posts from survival reddit "
   ]
  },
  {
   "cell_type": "code",
   "execution_count": 5,
   "metadata": {},
   "outputs": [
    {
     "data": {
      "text/plain": [
       "(3472, 9)"
      ]
     },
     "execution_count": 5,
     "metadata": {},
     "output_type": "execute_result"
    }
   ],
   "source": [
    "reddit_1.shape"
   ]
  },
  {
   "cell_type": "code",
   "execution_count": 6,
   "metadata": {},
   "outputs": [],
   "source": [
    "#https://stackoverflow.com/questions/20490274/how-to-reset-index-in-a-pandas-dataframe\n",
    "# Fix indices\n",
    "\n",
    "reddit_1.reset_index(inplace=True)"
   ]
  },
  {
   "cell_type": "code",
   "execution_count": 7,
   "metadata": {},
   "outputs": [],
   "source": [
    "# Drop unnecesary columns\n",
    "reddit_1.drop(columns=\"index\", inplace= True)"
   ]
  },
  {
   "cell_type": "code",
   "execution_count": 8,
   "metadata": {},
   "outputs": [
    {
     "data": {
      "text/html": [
       "<div>\n",
       "<style scoped>\n",
       "    .dataframe tbody tr th:only-of-type {\n",
       "        vertical-align: middle;\n",
       "    }\n",
       "\n",
       "    .dataframe tbody tr th {\n",
       "        vertical-align: top;\n",
       "    }\n",
       "\n",
       "    .dataframe thead th {\n",
       "        text-align: right;\n",
       "    }\n",
       "</style>\n",
       "<table border=\"1\" class=\"dataframe\">\n",
       "  <thead>\n",
       "    <tr style=\"text-align: right;\">\n",
       "      <th></th>\n",
       "      <th>title</th>\n",
       "      <th>selftext</th>\n",
       "      <th>subreddit</th>\n",
       "      <th>created_utc</th>\n",
       "      <th>author</th>\n",
       "      <th>num_comments</th>\n",
       "      <th>score</th>\n",
       "      <th>is_self</th>\n",
       "      <th>timestamp</th>\n",
       "    </tr>\n",
       "  </thead>\n",
       "  <tbody>\n",
       "    <tr>\n",
       "      <th>3467</th>\n",
       "      <td>Rugged portable charger</td>\n",
       "      <td>Anyone have a hood recommendation for portable...</td>\n",
       "      <td>Survival</td>\n",
       "      <td>1577184239</td>\n",
       "      <td>frs-yata</td>\n",
       "      <td>3</td>\n",
       "      <td>1</td>\n",
       "      <td>True</td>\n",
       "      <td>2019-12-24</td>\n",
       "    </tr>\n",
       "    <tr>\n",
       "      <th>3468</th>\n",
       "      <td>Starting up!</td>\n",
       "      <td>Hello everybody,\\n\\nI'm very new in this subre...</td>\n",
       "      <td>Survival</td>\n",
       "      <td>1577190607</td>\n",
       "      <td>ogulcanbas</td>\n",
       "      <td>10</td>\n",
       "      <td>1</td>\n",
       "      <td>True</td>\n",
       "      <td>2019-12-24</td>\n",
       "    </tr>\n",
       "    <tr>\n",
       "      <th>3469</th>\n",
       "      <td>Alternatives to denatured alcohol as fuel?</td>\n",
       "      <td>I very much dislike the invisible flame denatu...</td>\n",
       "      <td>Survival</td>\n",
       "      <td>1577214301</td>\n",
       "      <td>jayrmcm</td>\n",
       "      <td>9</td>\n",
       "      <td>1</td>\n",
       "      <td>True</td>\n",
       "      <td>2019-12-24</td>\n",
       "    </tr>\n",
       "    <tr>\n",
       "      <th>3470</th>\n",
       "      <td>Christmas Gift for my all Survival Friends!</td>\n",
       "      <td>This sound skeptical but I learn a lot from t...</td>\n",
       "      <td>Survival</td>\n",
       "      <td>1577258772</td>\n",
       "      <td>vinitp96</td>\n",
       "      <td>3</td>\n",
       "      <td>1</td>\n",
       "      <td>True</td>\n",
       "      <td>2019-12-25</td>\n",
       "    </tr>\n",
       "    <tr>\n",
       "      <th>3471</th>\n",
       "      <td>Smartwatch apps, tools, widgets?</td>\n",
       "      <td>Just got the Samsung Gear s3 smart watch. Wond...</td>\n",
       "      <td>Survival</td>\n",
       "      <td>1577311226</td>\n",
       "      <td>Rinzler1337</td>\n",
       "      <td>2</td>\n",
       "      <td>1</td>\n",
       "      <td>True</td>\n",
       "      <td>2019-12-25</td>\n",
       "    </tr>\n",
       "  </tbody>\n",
       "</table>\n",
       "</div>"
      ],
      "text/plain": [
       "                                            title  \\\n",
       "3467                      Rugged portable charger   \n",
       "3468                                 Starting up!   \n",
       "3469   Alternatives to denatured alcohol as fuel?   \n",
       "3470  Christmas Gift for my all Survival Friends!   \n",
       "3471             Smartwatch apps, tools, widgets?   \n",
       "\n",
       "                                               selftext subreddit  \\\n",
       "3467  Anyone have a hood recommendation for portable...  Survival   \n",
       "3468  Hello everybody,\\n\\nI'm very new in this subre...  Survival   \n",
       "3469  I very much dislike the invisible flame denatu...  Survival   \n",
       "3470   This sound skeptical but I learn a lot from t...  Survival   \n",
       "3471  Just got the Samsung Gear s3 smart watch. Wond...  Survival   \n",
       "\n",
       "      created_utc       author  num_comments  score  is_self   timestamp  \n",
       "3467   1577184239     frs-yata             3      1     True  2019-12-24  \n",
       "3468   1577190607   ogulcanbas            10      1     True  2019-12-24  \n",
       "3469   1577214301      jayrmcm             9      1     True  2019-12-24  \n",
       "3470   1577258772     vinitp96             3      1     True  2019-12-25  \n",
       "3471   1577311226  Rinzler1337             2      1     True  2019-12-25  "
      ]
     },
     "execution_count": 8,
     "metadata": {},
     "output_type": "execute_result"
    }
   ],
   "source": [
    "reddit_1.tail()"
   ]
  },
  {
   "cell_type": "code",
   "execution_count": 9,
   "metadata": {},
   "outputs": [
    {
     "name": "stdout",
     "output_type": "stream",
     "text": [
      "Querying from: https://api.pushshift.io/reddit/search/submission?subreddit=ZombieSurvivalTactics&size=100&after=10d\n",
      "Querying from: https://api.pushshift.io/reddit/search/submission?subreddit=ZombieSurvivalTactics&size=100&after=20d\n",
      "Querying from: https://api.pushshift.io/reddit/search/submission?subreddit=ZombieSurvivalTactics&size=100&after=30d\n",
      "Querying from: https://api.pushshift.io/reddit/search/submission?subreddit=ZombieSurvivalTactics&size=100&after=40d\n",
      "Querying from: https://api.pushshift.io/reddit/search/submission?subreddit=ZombieSurvivalTactics&size=100&after=50d\n",
      "Querying from: https://api.pushshift.io/reddit/search/submission?subreddit=ZombieSurvivalTactics&size=100&after=60d\n",
      "Querying from: https://api.pushshift.io/reddit/search/submission?subreddit=ZombieSurvivalTactics&size=100&after=70d\n",
      "Querying from: https://api.pushshift.io/reddit/search/submission?subreddit=ZombieSurvivalTactics&size=100&after=80d\n",
      "Querying from: https://api.pushshift.io/reddit/search/submission?subreddit=ZombieSurvivalTactics&size=100&after=90d\n",
      "Querying from: https://api.pushshift.io/reddit/search/submission?subreddit=ZombieSurvivalTactics&size=100&after=100d\n",
      "Querying from: https://api.pushshift.io/reddit/search/submission?subreddit=ZombieSurvivalTactics&size=100&after=110d\n",
      "Querying from: https://api.pushshift.io/reddit/search/submission?subreddit=ZombieSurvivalTactics&size=100&after=120d\n",
      "Querying from: https://api.pushshift.io/reddit/search/submission?subreddit=ZombieSurvivalTactics&size=100&after=130d\n",
      "Querying from: https://api.pushshift.io/reddit/search/submission?subreddit=ZombieSurvivalTactics&size=100&after=140d\n",
      "Querying from: https://api.pushshift.io/reddit/search/submission?subreddit=ZombieSurvivalTactics&size=100&after=150d\n",
      "Querying from: https://api.pushshift.io/reddit/search/submission?subreddit=ZombieSurvivalTactics&size=100&after=160d\n",
      "Querying from: https://api.pushshift.io/reddit/search/submission?subreddit=ZombieSurvivalTactics&size=100&after=170d\n",
      "Querying from: https://api.pushshift.io/reddit/search/submission?subreddit=ZombieSurvivalTactics&size=100&after=180d\n",
      "Querying from: https://api.pushshift.io/reddit/search/submission?subreddit=ZombieSurvivalTactics&size=100&after=190d\n",
      "Querying from: https://api.pushshift.io/reddit/search/submission?subreddit=ZombieSurvivalTactics&size=100&after=200d\n",
      "Querying from: https://api.pushshift.io/reddit/search/submission?subreddit=ZombieSurvivalTactics&size=100&after=210d\n",
      "Querying from: https://api.pushshift.io/reddit/search/submission?subreddit=ZombieSurvivalTactics&size=100&after=220d\n",
      "Querying from: https://api.pushshift.io/reddit/search/submission?subreddit=ZombieSurvivalTactics&size=100&after=230d\n",
      "Querying from: https://api.pushshift.io/reddit/search/submission?subreddit=ZombieSurvivalTactics&size=100&after=240d\n",
      "Querying from: https://api.pushshift.io/reddit/search/submission?subreddit=ZombieSurvivalTactics&size=100&after=250d\n",
      "Querying from: https://api.pushshift.io/reddit/search/submission?subreddit=ZombieSurvivalTactics&size=100&after=260d\n",
      "Querying from: https://api.pushshift.io/reddit/search/submission?subreddit=ZombieSurvivalTactics&size=100&after=270d\n",
      "Querying from: https://api.pushshift.io/reddit/search/submission?subreddit=ZombieSurvivalTactics&size=100&after=280d\n",
      "Querying from: https://api.pushshift.io/reddit/search/submission?subreddit=ZombieSurvivalTactics&size=100&after=290d\n",
      "Querying from: https://api.pushshift.io/reddit/search/submission?subreddit=ZombieSurvivalTactics&size=100&after=300d\n",
      "Querying from: https://api.pushshift.io/reddit/search/submission?subreddit=ZombieSurvivalTactics&size=100&after=310d\n",
      "Querying from: https://api.pushshift.io/reddit/search/submission?subreddit=ZombieSurvivalTactics&size=100&after=320d\n",
      "Querying from: https://api.pushshift.io/reddit/search/submission?subreddit=ZombieSurvivalTactics&size=100&after=330d\n",
      "Querying from: https://api.pushshift.io/reddit/search/submission?subreddit=ZombieSurvivalTactics&size=100&after=340d\n",
      "Querying from: https://api.pushshift.io/reddit/search/submission?subreddit=ZombieSurvivalTactics&size=100&after=350d\n",
      "Querying from: https://api.pushshift.io/reddit/search/submission?subreddit=ZombieSurvivalTactics&size=100&after=360d\n",
      "Querying from: https://api.pushshift.io/reddit/search/submission?subreddit=ZombieSurvivalTactics&size=100&after=370d\n",
      "Querying from: https://api.pushshift.io/reddit/search/submission?subreddit=ZombieSurvivalTactics&size=100&after=380d\n",
      "Querying from: https://api.pushshift.io/reddit/search/submission?subreddit=ZombieSurvivalTactics&size=100&after=390d\n",
      "Querying from: https://api.pushshift.io/reddit/search/submission?subreddit=ZombieSurvivalTactics&size=100&after=400d\n",
      "Querying from: https://api.pushshift.io/reddit/search/submission?subreddit=ZombieSurvivalTactics&size=100&after=410d\n",
      "Querying from: https://api.pushshift.io/reddit/search/submission?subreddit=ZombieSurvivalTactics&size=100&after=420d\n",
      "Querying from: https://api.pushshift.io/reddit/search/submission?subreddit=ZombieSurvivalTactics&size=100&after=430d\n",
      "Querying from: https://api.pushshift.io/reddit/search/submission?subreddit=ZombieSurvivalTactics&size=100&after=440d\n",
      "Querying from: https://api.pushshift.io/reddit/search/submission?subreddit=ZombieSurvivalTactics&size=100&after=450d\n",
      "Querying from: https://api.pushshift.io/reddit/search/submission?subreddit=ZombieSurvivalTactics&size=100&after=460d\n",
      "Querying from: https://api.pushshift.io/reddit/search/submission?subreddit=ZombieSurvivalTactics&size=100&after=470d\n",
      "Querying from: https://api.pushshift.io/reddit/search/submission?subreddit=ZombieSurvivalTactics&size=100&after=480d\n",
      "Querying from: https://api.pushshift.io/reddit/search/submission?subreddit=ZombieSurvivalTactics&size=100&after=490d\n",
      "Querying from: https://api.pushshift.io/reddit/search/submission?subreddit=ZombieSurvivalTactics&size=100&after=500d\n",
      "Querying from: https://api.pushshift.io/reddit/search/submission?subreddit=ZombieSurvivalTactics&size=100&after=510d\n",
      "Querying from: https://api.pushshift.io/reddit/search/submission?subreddit=ZombieSurvivalTactics&size=100&after=520d\n",
      "Querying from: https://api.pushshift.io/reddit/search/submission?subreddit=ZombieSurvivalTactics&size=100&after=530d\n",
      "Querying from: https://api.pushshift.io/reddit/search/submission?subreddit=ZombieSurvivalTactics&size=100&after=540d\n",
      "Querying from: https://api.pushshift.io/reddit/search/submission?subreddit=ZombieSurvivalTactics&size=100&after=550d\n",
      "Querying from: https://api.pushshift.io/reddit/search/submission?subreddit=ZombieSurvivalTactics&size=100&after=560d\n",
      "Querying from: https://api.pushshift.io/reddit/search/submission?subreddit=ZombieSurvivalTactics&size=100&after=570d\n",
      "Querying from: https://api.pushshift.io/reddit/search/submission?subreddit=ZombieSurvivalTactics&size=100&after=580d\n",
      "Querying from: https://api.pushshift.io/reddit/search/submission?subreddit=ZombieSurvivalTactics&size=100&after=590d\n",
      "Querying from: https://api.pushshift.io/reddit/search/submission?subreddit=ZombieSurvivalTactics&size=100&after=600d\n",
      "Querying from: https://api.pushshift.io/reddit/search/submission?subreddit=ZombieSurvivalTactics&size=100&after=610d\n",
      "Querying from: https://api.pushshift.io/reddit/search/submission?subreddit=ZombieSurvivalTactics&size=100&after=620d\n",
      "Querying from: https://api.pushshift.io/reddit/search/submission?subreddit=ZombieSurvivalTactics&size=100&after=630d\n",
      "Querying from: https://api.pushshift.io/reddit/search/submission?subreddit=ZombieSurvivalTactics&size=100&after=640d\n",
      "Querying from: https://api.pushshift.io/reddit/search/submission?subreddit=ZombieSurvivalTactics&size=100&after=650d\n",
      "Querying from: https://api.pushshift.io/reddit/search/submission?subreddit=ZombieSurvivalTactics&size=100&after=660d\n",
      "Querying from: https://api.pushshift.io/reddit/search/submission?subreddit=ZombieSurvivalTactics&size=100&after=670d\n",
      "Querying from: https://api.pushshift.io/reddit/search/submission?subreddit=ZombieSurvivalTactics&size=100&after=680d\n",
      "Querying from: https://api.pushshift.io/reddit/search/submission?subreddit=ZombieSurvivalTactics&size=100&after=690d\n",
      "Querying from: https://api.pushshift.io/reddit/search/submission?subreddit=ZombieSurvivalTactics&size=100&after=700d\n",
      "Querying from: https://api.pushshift.io/reddit/search/submission?subreddit=ZombieSurvivalTactics&size=100&after=710d\n",
      "Querying from: https://api.pushshift.io/reddit/search/submission?subreddit=ZombieSurvivalTactics&size=100&after=720d\n",
      "Querying from: https://api.pushshift.io/reddit/search/submission?subreddit=ZombieSurvivalTactics&size=100&after=730d\n",
      "Querying from: https://api.pushshift.io/reddit/search/submission?subreddit=ZombieSurvivalTactics&size=100&after=740d\n",
      "Querying from: https://api.pushshift.io/reddit/search/submission?subreddit=ZombieSurvivalTactics&size=100&after=750d\n",
      "Querying from: https://api.pushshift.io/reddit/search/submission?subreddit=ZombieSurvivalTactics&size=100&after=760d\n",
      "Querying from: https://api.pushshift.io/reddit/search/submission?subreddit=ZombieSurvivalTactics&size=100&after=770d\n",
      "Querying from: https://api.pushshift.io/reddit/search/submission?subreddit=ZombieSurvivalTactics&size=100&after=780d\n",
      "Querying from: https://api.pushshift.io/reddit/search/submission?subreddit=ZombieSurvivalTactics&size=100&after=790d\n",
      "Querying from: https://api.pushshift.io/reddit/search/submission?subreddit=ZombieSurvivalTactics&size=100&after=800d\n",
      "Query complete!\n"
     ]
    }
   ],
   "source": [
    "reddit_2 = query_pushshift(\"ZombieSurvivalTactics\")\n",
    "#gathering posts from ZST reddit "
   ]
  },
  {
   "cell_type": "code",
   "execution_count": 10,
   "metadata": {},
   "outputs": [],
   "source": [
    "# Fix duplicate indices\n",
    "reddit_2.reset_index(inplace=True)"
   ]
  },
  {
   "cell_type": "code",
   "execution_count": 11,
   "metadata": {},
   "outputs": [],
   "source": [
    "# Drop unnecesary columns\n",
    "reddit_2.drop(columns=[\"index\"], inplace= True)"
   ]
  },
  {
   "cell_type": "code",
   "execution_count": 12,
   "metadata": {},
   "outputs": [
    {
     "data": {
      "text/html": [
       "<div>\n",
       "<style scoped>\n",
       "    .dataframe tbody tr th:only-of-type {\n",
       "        vertical-align: middle;\n",
       "    }\n",
       "\n",
       "    .dataframe tbody tr th {\n",
       "        vertical-align: top;\n",
       "    }\n",
       "\n",
       "    .dataframe thead th {\n",
       "        text-align: right;\n",
       "    }\n",
       "</style>\n",
       "<table border=\"1\" class=\"dataframe\">\n",
       "  <thead>\n",
       "    <tr style=\"text-align: right;\">\n",
       "      <th></th>\n",
       "      <th>title</th>\n",
       "      <th>selftext</th>\n",
       "      <th>subreddit</th>\n",
       "      <th>created_utc</th>\n",
       "      <th>author</th>\n",
       "      <th>num_comments</th>\n",
       "      <th>score</th>\n",
       "      <th>is_self</th>\n",
       "      <th>timestamp</th>\n",
       "    </tr>\n",
       "  </thead>\n",
       "  <tbody>\n",
       "    <tr>\n",
       "      <th>2397</th>\n",
       "      <td>Pick 2</td>\n",
       "      <td>You get to choose 2 people from the walking de...</td>\n",
       "      <td>ZombieSurvivalTactics</td>\n",
       "      <td>1576973536</td>\n",
       "      <td>Leather-Locksmith</td>\n",
       "      <td>50</td>\n",
       "      <td>1</td>\n",
       "      <td>True</td>\n",
       "      <td>2019-12-21</td>\n",
       "    </tr>\n",
       "    <tr>\n",
       "      <th>2398</th>\n",
       "      <td>What knife do you recommend</td>\n",
       "      <td>[removed]</td>\n",
       "      <td>ZombieSurvivalTactics</td>\n",
       "      <td>1576974800</td>\n",
       "      <td>5Stimpy80</td>\n",
       "      <td>0</td>\n",
       "      <td>1</td>\n",
       "      <td>True</td>\n",
       "      <td>2019-12-21</td>\n",
       "    </tr>\n",
       "    <tr>\n",
       "      <th>2399</th>\n",
       "      <td>What would we do in an alternative zombie scen...</td>\n",
       "      <td>What would we do in a zombie apocalypse where ...</td>\n",
       "      <td>ZombieSurvivalTactics</td>\n",
       "      <td>1577062138</td>\n",
       "      <td>folding_chair_rick</td>\n",
       "      <td>11</td>\n",
       "      <td>1</td>\n",
       "      <td>True</td>\n",
       "      <td>2019-12-22</td>\n",
       "    </tr>\n",
       "    <tr>\n",
       "      <th>2400</th>\n",
       "      <td>Marry Christmas to all u legends</td>\n",
       "      <td></td>\n",
       "      <td>ZombieSurvivalTactics</td>\n",
       "      <td>1577207699</td>\n",
       "      <td>maskata7</td>\n",
       "      <td>8</td>\n",
       "      <td>1</td>\n",
       "      <td>True</td>\n",
       "      <td>2019-12-24</td>\n",
       "    </tr>\n",
       "    <tr>\n",
       "      <th>2401</th>\n",
       "      <td>Best ways to kill a zombie in a festive manner?</td>\n",
       "      <td>Since it’s basically Christmas, I was curious ...</td>\n",
       "      <td>ZombieSurvivalTactics</td>\n",
       "      <td>1577243985</td>\n",
       "      <td>Kandied_Kara</td>\n",
       "      <td>34</td>\n",
       "      <td>1</td>\n",
       "      <td>True</td>\n",
       "      <td>2019-12-24</td>\n",
       "    </tr>\n",
       "  </tbody>\n",
       "</table>\n",
       "</div>"
      ],
      "text/plain": [
       "                                                  title  \\\n",
       "2397                                             Pick 2   \n",
       "2398                        What knife do you recommend   \n",
       "2399  What would we do in an alternative zombie scen...   \n",
       "2400                   Marry Christmas to all u legends   \n",
       "2401    Best ways to kill a zombie in a festive manner?   \n",
       "\n",
       "                                               selftext  \\\n",
       "2397  You get to choose 2 people from the walking de...   \n",
       "2398                                          [removed]   \n",
       "2399  What would we do in a zombie apocalypse where ...   \n",
       "2400                                                      \n",
       "2401  Since it’s basically Christmas, I was curious ...   \n",
       "\n",
       "                  subreddit  created_utc              author  num_comments  \\\n",
       "2397  ZombieSurvivalTactics   1576973536   Leather-Locksmith            50   \n",
       "2398  ZombieSurvivalTactics   1576974800           5Stimpy80             0   \n",
       "2399  ZombieSurvivalTactics   1577062138  folding_chair_rick            11   \n",
       "2400  ZombieSurvivalTactics   1577207699            maskata7             8   \n",
       "2401  ZombieSurvivalTactics   1577243985        Kandied_Kara            34   \n",
       "\n",
       "      score  is_self   timestamp  \n",
       "2397      1     True  2019-12-21  \n",
       "2398      1     True  2019-12-21  \n",
       "2399      1     True  2019-12-22  \n",
       "2400      1     True  2019-12-24  \n",
       "2401      1     True  2019-12-24  "
      ]
     },
     "execution_count": 12,
     "metadata": {},
     "output_type": "execute_result"
    }
   ],
   "source": [
    "reddit_2.tail()"
   ]
  },
  {
   "cell_type": "code",
   "execution_count": 13,
   "metadata": {},
   "outputs": [
    {
     "data": {
      "text/plain": [
       "title            0\n",
       "selftext        15\n",
       "subreddit        0\n",
       "created_utc      0\n",
       "author           0\n",
       "num_comments     0\n",
       "score            0\n",
       "is_self          0\n",
       "timestamp        0\n",
       "dtype: int64"
      ]
     },
     "execution_count": 13,
     "metadata": {},
     "output_type": "execute_result"
    }
   ],
   "source": [
    "reddit_1.isnull().sum()"
   ]
  },
  {
   "cell_type": "code",
   "execution_count": 14,
   "metadata": {},
   "outputs": [
    {
     "data": {
      "text/plain": [
       "title           0\n",
       "selftext        2\n",
       "subreddit       0\n",
       "created_utc     0\n",
       "author          0\n",
       "num_comments    0\n",
       "score           0\n",
       "is_self         0\n",
       "timestamp       0\n",
       "dtype: int64"
      ]
     },
     "execution_count": 14,
     "metadata": {},
     "output_type": "execute_result"
    }
   ],
   "source": [
    "reddit_2.isnull().sum()"
   ]
  },
  {
   "cell_type": "code",
   "execution_count": 15,
   "metadata": {},
   "outputs": [],
   "source": [
    "reddit_2.dropna(inplace=True)"
   ]
  },
  {
   "cell_type": "code",
   "execution_count": 16,
   "metadata": {},
   "outputs": [],
   "source": [
    "reddit_1.dropna(inplace=True)"
   ]
  },
  {
   "cell_type": "code",
   "execution_count": 17,
   "metadata": {},
   "outputs": [
    {
     "data": {
      "text/plain": [
       "(3457, 9)"
      ]
     },
     "execution_count": 17,
     "metadata": {},
     "output_type": "execute_result"
    }
   ],
   "source": [
    "reddit_1.shape"
   ]
  },
  {
   "cell_type": "code",
   "execution_count": 18,
   "metadata": {},
   "outputs": [
    {
     "data": {
      "text/plain": [
       "(2400, 9)"
      ]
     },
     "execution_count": 18,
     "metadata": {},
     "output_type": "execute_result"
    }
   ],
   "source": [
    "reddit_2.shape"
   ]
  },
  {
   "cell_type": "code",
   "execution_count": 19,
   "metadata": {},
   "outputs": [
    {
     "data": {
      "text/plain": [
       "1057"
      ]
     },
     "execution_count": 19,
     "metadata": {},
     "output_type": "execute_result"
    }
   ],
   "source": [
    "3457-2400"
   ]
  },
  {
   "cell_type": "code",
   "execution_count": 20,
   "metadata": {},
   "outputs": [],
   "source": [
    "# After dropping nulls, drop extra rows to ensure reddit_1 is the same shape as reddit_2\n",
    "\n",
    "reddit_1.drop(reddit_1.index[2400:3457], 0, inplace= True)"
   ]
  },
  {
   "cell_type": "code",
   "execution_count": 21,
   "metadata": {},
   "outputs": [
    {
     "data": {
      "text/plain": [
       "True"
      ]
     },
     "execution_count": 21,
     "metadata": {},
     "output_type": "execute_result"
    }
   ],
   "source": [
    "# Ensure shapes are equal\n",
    "reddit_1.shape==reddit_2.shape"
   ]
  },
  {
   "cell_type": "code",
   "execution_count": 22,
   "metadata": {},
   "outputs": [
    {
     "data": {
      "text/plain": [
       "(4800, 9)"
      ]
     },
     "execution_count": 22,
     "metadata": {},
     "output_type": "execute_result"
    }
   ],
   "source": [
    "# Combine both dataframes and check the shape\n",
    "posts=[reddit_1, reddit_2]\n",
    "combined_db = pd.concat(posts)\n",
    "combined_db.shape"
   ]
  },
  {
   "cell_type": "code",
   "execution_count": 23,
   "metadata": {},
   "outputs": [
    {
     "name": "stdout",
     "output_type": "stream",
     "text": [
      "<class 'pandas.core.frame.DataFrame'>\n",
      "Int64Index: 4800 entries, 0 to 2401\n",
      "Data columns (total 9 columns):\n",
      " #   Column        Non-Null Count  Dtype \n",
      "---  ------        --------------  ----- \n",
      " 0   title         4800 non-null   object\n",
      " 1   selftext      4800 non-null   object\n",
      " 2   subreddit     4800 non-null   object\n",
      " 3   created_utc   4800 non-null   int64 \n",
      " 4   author        4800 non-null   object\n",
      " 5   num_comments  4800 non-null   int64 \n",
      " 6   score         4800 non-null   int64 \n",
      " 7   is_self       4800 non-null   bool  \n",
      " 8   timestamp     4800 non-null   object\n",
      "dtypes: bool(1), int64(3), object(5)\n",
      "memory usage: 342.2+ KB\n"
     ]
    }
   ],
   "source": [
    "combined_db.info()"
   ]
  },
  {
   "cell_type": "markdown",
   "metadata": {},
   "source": [
    "# Data Cleaning\n",
    "I dummy code our dependent subreddit column, feature engineer, and handle nulls with replacement."
   ]
  },
  {
   "cell_type": "code",
   "execution_count": 24,
   "metadata": {},
   "outputs": [],
   "source": [
    "combined_db['subreddit'] = combined_db['subreddit'].map({'ZombieSurvivalTactics': 1, 'Survival': 0})"
   ]
  },
  {
   "cell_type": "code",
   "execution_count": 25,
   "metadata": {},
   "outputs": [
    {
     "data": {
      "text/html": [
       "<div>\n",
       "<style scoped>\n",
       "    .dataframe tbody tr th:only-of-type {\n",
       "        vertical-align: middle;\n",
       "    }\n",
       "\n",
       "    .dataframe tbody tr th {\n",
       "        vertical-align: top;\n",
       "    }\n",
       "\n",
       "    .dataframe thead th {\n",
       "        text-align: right;\n",
       "    }\n",
       "</style>\n",
       "<table border=\"1\" class=\"dataframe\">\n",
       "  <thead>\n",
       "    <tr style=\"text-align: right;\">\n",
       "      <th></th>\n",
       "      <th>title</th>\n",
       "      <th>selftext</th>\n",
       "      <th>subreddit</th>\n",
       "      <th>created_utc</th>\n",
       "      <th>author</th>\n",
       "      <th>num_comments</th>\n",
       "      <th>score</th>\n",
       "      <th>is_self</th>\n",
       "      <th>timestamp</th>\n",
       "    </tr>\n",
       "  </thead>\n",
       "  <tbody>\n",
       "    <tr>\n",
       "      <th>2397</th>\n",
       "      <td>Pick 2</td>\n",
       "      <td>You get to choose 2 people from the walking de...</td>\n",
       "      <td>1</td>\n",
       "      <td>1576973536</td>\n",
       "      <td>Leather-Locksmith</td>\n",
       "      <td>50</td>\n",
       "      <td>1</td>\n",
       "      <td>True</td>\n",
       "      <td>2019-12-21</td>\n",
       "    </tr>\n",
       "    <tr>\n",
       "      <th>2398</th>\n",
       "      <td>What knife do you recommend</td>\n",
       "      <td>[removed]</td>\n",
       "      <td>1</td>\n",
       "      <td>1576974800</td>\n",
       "      <td>5Stimpy80</td>\n",
       "      <td>0</td>\n",
       "      <td>1</td>\n",
       "      <td>True</td>\n",
       "      <td>2019-12-21</td>\n",
       "    </tr>\n",
       "    <tr>\n",
       "      <th>2399</th>\n",
       "      <td>What would we do in an alternative zombie scen...</td>\n",
       "      <td>What would we do in a zombie apocalypse where ...</td>\n",
       "      <td>1</td>\n",
       "      <td>1577062138</td>\n",
       "      <td>folding_chair_rick</td>\n",
       "      <td>11</td>\n",
       "      <td>1</td>\n",
       "      <td>True</td>\n",
       "      <td>2019-12-22</td>\n",
       "    </tr>\n",
       "    <tr>\n",
       "      <th>2400</th>\n",
       "      <td>Marry Christmas to all u legends</td>\n",
       "      <td></td>\n",
       "      <td>1</td>\n",
       "      <td>1577207699</td>\n",
       "      <td>maskata7</td>\n",
       "      <td>8</td>\n",
       "      <td>1</td>\n",
       "      <td>True</td>\n",
       "      <td>2019-12-24</td>\n",
       "    </tr>\n",
       "    <tr>\n",
       "      <th>2401</th>\n",
       "      <td>Best ways to kill a zombie in a festive manner?</td>\n",
       "      <td>Since it’s basically Christmas, I was curious ...</td>\n",
       "      <td>1</td>\n",
       "      <td>1577243985</td>\n",
       "      <td>Kandied_Kara</td>\n",
       "      <td>34</td>\n",
       "      <td>1</td>\n",
       "      <td>True</td>\n",
       "      <td>2019-12-24</td>\n",
       "    </tr>\n",
       "  </tbody>\n",
       "</table>\n",
       "</div>"
      ],
      "text/plain": [
       "                                                  title  \\\n",
       "2397                                             Pick 2   \n",
       "2398                        What knife do you recommend   \n",
       "2399  What would we do in an alternative zombie scen...   \n",
       "2400                   Marry Christmas to all u legends   \n",
       "2401    Best ways to kill a zombie in a festive manner?   \n",
       "\n",
       "                                               selftext  subreddit  \\\n",
       "2397  You get to choose 2 people from the walking de...          1   \n",
       "2398                                          [removed]          1   \n",
       "2399  What would we do in a zombie apocalypse where ...          1   \n",
       "2400                                                             1   \n",
       "2401  Since it’s basically Christmas, I was curious ...          1   \n",
       "\n",
       "      created_utc              author  num_comments  score  is_self  \\\n",
       "2397   1576973536   Leather-Locksmith            50      1     True   \n",
       "2398   1576974800           5Stimpy80             0      1     True   \n",
       "2399   1577062138  folding_chair_rick            11      1     True   \n",
       "2400   1577207699            maskata7             8      1     True   \n",
       "2401   1577243985        Kandied_Kara            34      1     True   \n",
       "\n",
       "       timestamp  \n",
       "2397  2019-12-21  \n",
       "2398  2019-12-21  \n",
       "2399  2019-12-22  \n",
       "2400  2019-12-24  \n",
       "2401  2019-12-24  "
      ]
     },
     "execution_count": 25,
     "metadata": {},
     "output_type": "execute_result"
    }
   ],
   "source": [
    "combined_db.tail()"
   ]
  },
  {
   "cell_type": "code",
   "execution_count": 26,
   "metadata": {},
   "outputs": [],
   "source": [
    "combined_db[\"selftext\"].replace('[removed]',\"\", inplace=True)"
   ]
  },
  {
   "cell_type": "code",
   "execution_count": 27,
   "metadata": {},
   "outputs": [
    {
     "data": {
      "text/html": [
       "<div>\n",
       "<style scoped>\n",
       "    .dataframe tbody tr th:only-of-type {\n",
       "        vertical-align: middle;\n",
       "    }\n",
       "\n",
       "    .dataframe tbody tr th {\n",
       "        vertical-align: top;\n",
       "    }\n",
       "\n",
       "    .dataframe thead th {\n",
       "        text-align: right;\n",
       "    }\n",
       "</style>\n",
       "<table border=\"1\" class=\"dataframe\">\n",
       "  <thead>\n",
       "    <tr style=\"text-align: right;\">\n",
       "      <th></th>\n",
       "      <th>title</th>\n",
       "      <th>selftext</th>\n",
       "      <th>subreddit</th>\n",
       "      <th>created_utc</th>\n",
       "      <th>author</th>\n",
       "      <th>num_comments</th>\n",
       "      <th>score</th>\n",
       "      <th>is_self</th>\n",
       "      <th>timestamp</th>\n",
       "    </tr>\n",
       "  </thead>\n",
       "  <tbody>\n",
       "  </tbody>\n",
       "</table>\n",
       "</div>"
      ],
      "text/plain": [
       "Empty DataFrame\n",
       "Columns: [title, selftext, subreddit, created_utc, author, num_comments, score, is_self, timestamp]\n",
       "Index: []"
      ]
     },
     "execution_count": 27,
     "metadata": {},
     "output_type": "execute_result"
    }
   ],
   "source": [
    "combined_db.loc[(combined_db['selftext']==\"[removed]\")]"
   ]
  },
  {
   "cell_type": "code",
   "execution_count": 28,
   "metadata": {},
   "outputs": [
    {
     "data": {
      "text/html": [
       "<div>\n",
       "<style scoped>\n",
       "    .dataframe tbody tr th:only-of-type {\n",
       "        vertical-align: middle;\n",
       "    }\n",
       "\n",
       "    .dataframe tbody tr th {\n",
       "        vertical-align: top;\n",
       "    }\n",
       "\n",
       "    .dataframe thead th {\n",
       "        text-align: right;\n",
       "    }\n",
       "</style>\n",
       "<table border=\"1\" class=\"dataframe\">\n",
       "  <thead>\n",
       "    <tr style=\"text-align: right;\">\n",
       "      <th></th>\n",
       "      <th>title</th>\n",
       "      <th>selftext</th>\n",
       "      <th>subreddit</th>\n",
       "      <th>created_utc</th>\n",
       "      <th>author</th>\n",
       "      <th>num_comments</th>\n",
       "      <th>score</th>\n",
       "      <th>is_self</th>\n",
       "      <th>timestamp</th>\n",
       "    </tr>\n",
       "  </thead>\n",
       "  <tbody>\n",
       "    <tr>\n",
       "      <th>2</th>\n",
       "      <td>bug out buddies welcome</td>\n",
       "      <td></td>\n",
       "      <td>0</td>\n",
       "      <td>1644728273</td>\n",
       "      <td>nurseandmeddoctor</td>\n",
       "      <td>1</td>\n",
       "      <td>1</td>\n",
       "      <td>True</td>\n",
       "      <td>2022-02-12</td>\n",
       "    </tr>\n",
       "    <tr>\n",
       "      <th>5</th>\n",
       "      <td>MOD survival knife</td>\n",
       "      <td></td>\n",
       "      <td>0</td>\n",
       "      <td>1644766711</td>\n",
       "      <td>Deesade13</td>\n",
       "      <td>0</td>\n",
       "      <td>1</td>\n",
       "      <td>True</td>\n",
       "      <td>2022-02-13</td>\n",
       "    </tr>\n",
       "    <tr>\n",
       "      <th>6</th>\n",
       "      <td>Fresh Fatlighter Versus Old Fatlighter</td>\n",
       "      <td></td>\n",
       "      <td>0</td>\n",
       "      <td>1644770324</td>\n",
       "      <td>ThinkChicken-42</td>\n",
       "      <td>0</td>\n",
       "      <td>1</td>\n",
       "      <td>True</td>\n",
       "      <td>2022-02-13</td>\n",
       "    </tr>\n",
       "    <tr>\n",
       "      <th>7</th>\n",
       "      <td>Best way to disinfect wounds without a hospital.</td>\n",
       "      <td></td>\n",
       "      <td>0</td>\n",
       "      <td>1644790761</td>\n",
       "      <td>joyjoyhappyhappyjoy</td>\n",
       "      <td>0</td>\n",
       "      <td>1</td>\n",
       "      <td>True</td>\n",
       "      <td>2022-02-13</td>\n",
       "    </tr>\n",
       "    <tr>\n",
       "      <th>8</th>\n",
       "      <td>Short Hikers Survey (Mod Approved)</td>\n",
       "      <td></td>\n",
       "      <td>0</td>\n",
       "      <td>1644802712</td>\n",
       "      <td>Audible102</td>\n",
       "      <td>0</td>\n",
       "      <td>1</td>\n",
       "      <td>True</td>\n",
       "      <td>2022-02-13</td>\n",
       "    </tr>\n",
       "    <tr>\n",
       "      <th>...</th>\n",
       "      <td>...</td>\n",
       "      <td>...</td>\n",
       "      <td>...</td>\n",
       "      <td>...</td>\n",
       "      <td>...</td>\n",
       "      <td>...</td>\n",
       "      <td>...</td>\n",
       "      <td>...</td>\n",
       "      <td>...</td>\n",
       "    </tr>\n",
       "    <tr>\n",
       "      <th>2393</th>\n",
       "      <td>What should I add to my zombie bag</td>\n",
       "      <td></td>\n",
       "      <td>1</td>\n",
       "      <td>1576950237</td>\n",
       "      <td>5Stimpy80</td>\n",
       "      <td>2</td>\n",
       "      <td>1</td>\n",
       "      <td>True</td>\n",
       "      <td>2019-12-21</td>\n",
       "    </tr>\n",
       "    <tr>\n",
       "      <th>2394</th>\n",
       "      <td>Can a Ozark Trail 10 inch matchete kill a zombie?</td>\n",
       "      <td></td>\n",
       "      <td>1</td>\n",
       "      <td>1576955329</td>\n",
       "      <td>5Stimpy80</td>\n",
       "      <td>0</td>\n",
       "      <td>1</td>\n",
       "      <td>True</td>\n",
       "      <td>2019-12-21</td>\n",
       "    </tr>\n",
       "    <tr>\n",
       "      <th>2396</th>\n",
       "      <td>Can a airgun be useful in a zombie apocalypse?</td>\n",
       "      <td></td>\n",
       "      <td>1</td>\n",
       "      <td>1576963143</td>\n",
       "      <td>5Stimpy80</td>\n",
       "      <td>0</td>\n",
       "      <td>1</td>\n",
       "      <td>True</td>\n",
       "      <td>2019-12-21</td>\n",
       "    </tr>\n",
       "    <tr>\n",
       "      <th>2398</th>\n",
       "      <td>What knife do you recommend</td>\n",
       "      <td></td>\n",
       "      <td>1</td>\n",
       "      <td>1576974800</td>\n",
       "      <td>5Stimpy80</td>\n",
       "      <td>0</td>\n",
       "      <td>1</td>\n",
       "      <td>True</td>\n",
       "      <td>2019-12-21</td>\n",
       "    </tr>\n",
       "    <tr>\n",
       "      <th>2400</th>\n",
       "      <td>Marry Christmas to all u legends</td>\n",
       "      <td></td>\n",
       "      <td>1</td>\n",
       "      <td>1577207699</td>\n",
       "      <td>maskata7</td>\n",
       "      <td>8</td>\n",
       "      <td>1</td>\n",
       "      <td>True</td>\n",
       "      <td>2019-12-24</td>\n",
       "    </tr>\n",
       "  </tbody>\n",
       "</table>\n",
       "<p>1522 rows × 9 columns</p>\n",
       "</div>"
      ],
      "text/plain": [
       "                                                  title selftext  subreddit  \\\n",
       "2                               bug out buddies welcome                   0   \n",
       "5                                    MOD survival knife                   0   \n",
       "6                Fresh Fatlighter Versus Old Fatlighter                   0   \n",
       "7      Best way to disinfect wounds without a hospital.                   0   \n",
       "8                    Short Hikers Survey (Mod Approved)                   0   \n",
       "...                                                 ...      ...        ...   \n",
       "2393                 What should I add to my zombie bag                   1   \n",
       "2394  Can a Ozark Trail 10 inch matchete kill a zombie?                   1   \n",
       "2396     Can a airgun be useful in a zombie apocalypse?                   1   \n",
       "2398                        What knife do you recommend                   1   \n",
       "2400                   Marry Christmas to all u legends                   1   \n",
       "\n",
       "      created_utc               author  num_comments  score  is_self  \\\n",
       "2      1644728273    nurseandmeddoctor             1      1     True   \n",
       "5      1644766711            Deesade13             0      1     True   \n",
       "6      1644770324      ThinkChicken-42             0      1     True   \n",
       "7      1644790761  joyjoyhappyhappyjoy             0      1     True   \n",
       "8      1644802712           Audible102             0      1     True   \n",
       "...           ...                  ...           ...    ...      ...   \n",
       "2393   1576950237            5Stimpy80             2      1     True   \n",
       "2394   1576955329            5Stimpy80             0      1     True   \n",
       "2396   1576963143            5Stimpy80             0      1     True   \n",
       "2398   1576974800            5Stimpy80             0      1     True   \n",
       "2400   1577207699             maskata7             8      1     True   \n",
       "\n",
       "       timestamp  \n",
       "2     2022-02-12  \n",
       "5     2022-02-13  \n",
       "6     2022-02-13  \n",
       "7     2022-02-13  \n",
       "8     2022-02-13  \n",
       "...          ...  \n",
       "2393  2019-12-21  \n",
       "2394  2019-12-21  \n",
       "2396  2019-12-21  \n",
       "2398  2019-12-21  \n",
       "2400  2019-12-24  \n",
       "\n",
       "[1522 rows x 9 columns]"
      ]
     },
     "execution_count": 28,
     "metadata": {},
     "output_type": "execute_result"
    }
   ],
   "source": [
    "combined_db.loc[(combined_db['selftext']==\"\")]"
   ]
  },
  {
   "cell_type": "code",
   "execution_count": 29,
   "metadata": {},
   "outputs": [],
   "source": [
    "combined_db[\"all_text\"] = combined_db[\"title\"] + \" \" + combined_db[\"selftext\"]"
   ]
  },
  {
   "cell_type": "code",
   "execution_count": 21,
   "metadata": {},
   "outputs": [
    {
     "data": {
      "text/html": [
       "<div>\n",
       "<style scoped>\n",
       "    .dataframe tbody tr th:only-of-type {\n",
       "        vertical-align: middle;\n",
       "    }\n",
       "\n",
       "    .dataframe tbody tr th {\n",
       "        vertical-align: top;\n",
       "    }\n",
       "\n",
       "    .dataframe thead th {\n",
       "        text-align: right;\n",
       "    }\n",
       "</style>\n",
       "<table border=\"1\" class=\"dataframe\">\n",
       "  <thead>\n",
       "    <tr style=\"text-align: right;\">\n",
       "      <th></th>\n",
       "      <th>title</th>\n",
       "      <th>selftext</th>\n",
       "      <th>subreddit</th>\n",
       "      <th>created_utc</th>\n",
       "      <th>author</th>\n",
       "      <th>num_comments</th>\n",
       "      <th>score</th>\n",
       "      <th>is_self</th>\n",
       "      <th>timestamp</th>\n",
       "      <th>all_text</th>\n",
       "    </tr>\n",
       "  </thead>\n",
       "  <tbody>\n",
       "    <tr>\n",
       "      <th>0</th>\n",
       "      <td>What have you prepared for ww3</td>\n",
       "      <td>I have been prepping since September. And had ...</td>\n",
       "      <td>0</td>\n",
       "      <td>1644716942</td>\n",
       "      <td>Vote_for_my_party</td>\n",
       "      <td>0</td>\n",
       "      <td>1</td>\n",
       "      <td>True</td>\n",
       "      <td>2022-02-12</td>\n",
       "      <td>what have you prepared for ww3 i have been pre...</td>\n",
       "    </tr>\n",
       "    <tr>\n",
       "      <th>1</th>\n",
       "      <td>Food storage</td>\n",
       "      <td>I trust you idiots more than Amazon reviews 😉\\...</td>\n",
       "      <td>0</td>\n",
       "      <td>1644722444</td>\n",
       "      <td>FrostyyFalcon</td>\n",
       "      <td>0</td>\n",
       "      <td>1</td>\n",
       "      <td>True</td>\n",
       "      <td>2022-02-12</td>\n",
       "      <td>food storage i trust you idiots more than amaz...</td>\n",
       "    </tr>\n",
       "    <tr>\n",
       "      <th>2</th>\n",
       "      <td>bug out buddies welcome</td>\n",
       "      <td>NaN</td>\n",
       "      <td>0</td>\n",
       "      <td>1644728273</td>\n",
       "      <td>nurseandmeddoctor</td>\n",
       "      <td>1</td>\n",
       "      <td>1</td>\n",
       "      <td>True</td>\n",
       "      <td>2022-02-12</td>\n",
       "      <td>bug out buddies welcome</td>\n",
       "    </tr>\n",
       "    <tr>\n",
       "      <th>3</th>\n",
       "      <td>Watch Online</td>\n",
       "      <td>I'm looking for a place/website to watch certa...</td>\n",
       "      <td>0</td>\n",
       "      <td>1644742724</td>\n",
       "      <td>Rocaine300</td>\n",
       "      <td>0</td>\n",
       "      <td>1</td>\n",
       "      <td>True</td>\n",
       "      <td>2022-02-13</td>\n",
       "      <td>watch online i'm looking for a place/website t...</td>\n",
       "    </tr>\n",
       "    <tr>\n",
       "      <th>4</th>\n",
       "      <td>Watch Online</td>\n",
       "      <td>I'm looking for a website/place to watch certa...</td>\n",
       "      <td>0</td>\n",
       "      <td>1644742990</td>\n",
       "      <td>The_Bawsz</td>\n",
       "      <td>0</td>\n",
       "      <td>1</td>\n",
       "      <td>True</td>\n",
       "      <td>2022-02-13</td>\n",
       "      <td>watch online i'm looking for a website/place t...</td>\n",
       "    </tr>\n",
       "  </tbody>\n",
       "</table>\n",
       "</div>"
      ],
      "text/plain": [
       "                            title  \\\n",
       "0  What have you prepared for ww3   \n",
       "1                    Food storage   \n",
       "2         bug out buddies welcome   \n",
       "3                    Watch Online   \n",
       "4                    Watch Online   \n",
       "\n",
       "                                            selftext  subreddit  created_utc  \\\n",
       "0  I have been prepping since September. And had ...          0   1644716942   \n",
       "1  I trust you idiots more than Amazon reviews 😉\\...          0   1644722444   \n",
       "2                                                NaN          0   1644728273   \n",
       "3  I'm looking for a place/website to watch certa...          0   1644742724   \n",
       "4  I'm looking for a website/place to watch certa...          0   1644742990   \n",
       "\n",
       "              author  num_comments  score  is_self   timestamp  \\\n",
       "0  Vote_for_my_party             0      1     True  2022-02-12   \n",
       "1      FrostyyFalcon             0      1     True  2022-02-12   \n",
       "2  nurseandmeddoctor             1      1     True  2022-02-12   \n",
       "3         Rocaine300             0      1     True  2022-02-13   \n",
       "4          The_Bawsz             0      1     True  2022-02-13   \n",
       "\n",
       "                                            all_text  \n",
       "0  what have you prepared for ww3 i have been pre...  \n",
       "1  food storage i trust you idiots more than amaz...  \n",
       "2                           bug out buddies welcome   \n",
       "3  watch online i'm looking for a place/website t...  \n",
       "4  watch online i'm looking for a website/place t...  "
      ]
     },
     "execution_count": 21,
     "metadata": {},
     "output_type": "execute_result"
    }
   ],
   "source": [
    "combined_db.head()"
   ]
  },
  {
   "cell_type": "code",
   "execution_count": 20,
   "metadata": {},
   "outputs": [],
   "source": [
    "combined_db['all_text'] = combined_db['all_text'].str.lower()"
   ]
  },
  {
   "cell_type": "code",
   "execution_count": 22,
   "metadata": {},
   "outputs": [],
   "source": [
    "combined_db.to_csv(\"./datasets/combined_db.csv\", index=False)"
   ]
  },
  {
   "cell_type": "code",
   "execution_count": 4,
   "metadata": {},
   "outputs": [],
   "source": [
    "combined_db=pd.read_csv('./datasets/combined_db.csv')"
   ]
  },
  {
   "cell_type": "code",
   "execution_count": 5,
   "metadata": {},
   "outputs": [
    {
     "name": "stdout",
     "output_type": "stream",
     "text": [
      "<class 'pandas.core.frame.DataFrame'>\n",
      "RangeIndex: 4800 entries, 0 to 4799\n",
      "Data columns (total 10 columns):\n",
      " #   Column        Non-Null Count  Dtype \n",
      "---  ------        --------------  ----- \n",
      " 0   title         4800 non-null   object\n",
      " 1   selftext      3278 non-null   object\n",
      " 2   subreddit     4800 non-null   int64 \n",
      " 3   created_utc   4800 non-null   int64 \n",
      " 4   author        4800 non-null   object\n",
      " 5   num_comments  4800 non-null   int64 \n",
      " 6   score         4800 non-null   int64 \n",
      " 7   is_self       4800 non-null   bool  \n",
      " 8   timestamp     4800 non-null   object\n",
      " 9   all_text      4800 non-null   object\n",
      "dtypes: bool(1), int64(4), object(5)\n",
      "memory usage: 342.3+ KB\n"
     ]
    }
   ],
   "source": [
    "combined_db.info()"
   ]
  },
  {
   "cell_type": "markdown",
   "metadata": {},
   "source": [
    "# EDA (Explarotory Data Analysis)"
   ]
  },
  {
   "cell_type": "markdown",
   "metadata": {},
   "source": [
    "# Subreddit 1\n",
    "#### We are using count vectorizer to split and analyze the all_text columns in this section.\n",
    "#### Visualization of the following are provided:\n",
    "\n",
    "- Top 10 Most Frequently Occuring single words with and without stop-words\n",
    "- Top 10 Most Frequently Occuring Bi-grams"
   ]
  },
  {
   "cell_type": "code",
   "execution_count": 6,
   "metadata": {},
   "outputs": [],
   "source": [
    "# Subreddit 1's texts\n",
    "subred_1=combined_db[combined_db['subreddit']==1]['all_text']"
   ]
  },
  {
   "cell_type": "code",
   "execution_count": 7,
   "metadata": {},
   "outputs": [],
   "source": [
    "# Instiate and set parameters using stop words\n",
    "cvec = CountVectorizer( \n",
    "                       min_df=3, # Words must appear a minimum of 3 times\n",
    "                       max_df=.98, # Ignore words that appear in 98% of documents in the corpus.\n",
    "                       max_features=1_000,  # The top 1,000 words will be saved\n",
    "                       #ngram_range=(1,3)\n",
    "                      )\n",
    "\n",
    "# Fit our vectorizier on our corpus\n",
    "cvec.fit(subred_1)\n",
    "\n",
    "# Transform the corpus\n",
    "subred_1 = cvec.transform(subred_1)"
   ]
  },
  {
   "cell_type": "code",
   "execution_count": 8,
   "metadata": {},
   "outputs": [],
   "source": [
    "## Check some of the word features stored in CountVectorizer with `get_feature_names`\n",
    "# cvec.get_feature_names()[100:150]"
   ]
  },
  {
   "cell_type": "code",
   "execution_count": 9,
   "metadata": {},
   "outputs": [],
   "source": [
    "# Convert X_train into a DataFrame.\n",
    "# We will not actually use this for modeling,\n",
    "# this is just to visualize what is happening\n",
    "subred_1_df = pd.DataFrame(subred_1.todense(), \n",
    "                          columns=cvec.get_feature_names())"
   ]
  },
  {
   "cell_type": "code",
   "execution_count": 11,
   "metadata": {},
   "outputs": [
    {
     "data": {
      "image/png": "[encoded data removed]",
      "text/plain": [
       "<Figure size 720x360 with 1 Axes>"
      ]
     },
     "metadata": {
      "needs_background": "light"
     },
     "output_type": "display_data"
    }
   ],
   "source": [
    "# Plot of top occuring words across all documents - a lot of these are stop words - articles\n",
    "plt.figure(figsize=(10,5))\n",
    "subred_1_df.sum().sort_values(ascending=False).head(10).plot(kind='barh', color='red')\n",
    "plt.title(\"Top 10 Words in Zombie Survival Reddit Without Stopwords\", c='black', horizontalalignment='center')\n",
    "plt.ylabel(\"Top 10 Words\", size=10, c='black')\n",
    "plt.xlabel(\"Frequency\", c=\"black\")\n",
    "plt.savefig('./images/z_10_single_no_stopwords.png');"
   ]
  },
  {
   "cell_type": "markdown",
   "metadata": {},
   "source": [
    " This is unhelpful to our model as the top words are mostly articles and stop words."
   ]
  },
  {
   "cell_type": "code",
   "execution_count": 12,
   "metadata": {},
   "outputs": [],
   "source": [
    "# We create stop words so the model only picks up essential words to improve classification identification.  \n",
    "# I am removing the words zombie and apocalypse to make it harder for the model to identify the subreddit.\n",
    "# I added other URL words and non-informative reoccuring words.\n",
    "\n",
    "from sklearn.feature_extraction.text import ENGLISH_STOP_WORDS\n",
    "my_words=['zombie','zombies','apocalypse', \"https\", \"amp\", \"com\", \"poll\", \"www\", \"reddit\", \"don\", \"webp\", \"youtube\", \"reddit\", \"like\",\"just\", \"ve\", \"need\", \"people\", \"think\", \"know\", \n",
    "         \"redd\"]\n",
    "my_stop_words=ENGLISH_STOP_WORDS.union(my_words)"
   ]
  },
  {
   "cell_type": "code",
   "execution_count": 13,
   "metadata": {},
   "outputs": [],
   "source": [
    "# Subreddit 1's texts\n",
    "subred_1=combined_db[combined_db['subreddit']==1]['all_text']"
   ]
  },
  {
   "cell_type": "code",
   "execution_count": 14,
   "metadata": {},
   "outputs": [],
   "source": [
    "# Instiate and set parameters using stop words\n",
    "cvec = CountVectorizer(stop_words=my_stop_words,\n",
    "                       min_df=3, # Words must appear a minimum of 3 times\n",
    "                       max_df=.98, # Ignore words that appear in 98% of documents in the corpus.\n",
    "                       max_features=1_000,  # The top 1,000 words will be saved\n",
    "                       ngram_range=(1,3)\n",
    "                      )\n",
    "\n",
    "# Fit our vectorizier on our corpus\n",
    "cvec.fit(subred_1)\n",
    "\n",
    "# Transform the corpus\n",
    "subred_1 = cvec.transform(subred_1)"
   ]
  },
  {
   "cell_type": "code",
   "execution_count": 15,
   "metadata": {},
   "outputs": [],
   "source": [
    "## Check some of the word features stored in CountVectorizer with `get_feature_names`\n",
    "# cvec.get_feature_names()[100:150]"
   ]
  },
  {
   "cell_type": "code",
   "execution_count": 16,
   "metadata": {},
   "outputs": [],
   "source": [
    "# Convert X_train into a DataFrame.\n",
    "# We will not actually use this for modeling,\n",
    "# this is just to visualize what is happening\n",
    "subred_1_df = pd.DataFrame(subred_1.todense(), \n",
    "                          columns=cvec.get_feature_names())"
   ]
  },
  {
   "cell_type": "code",
   "execution_count": 17,
   "metadata": {},
   "outputs": [
    {
     "data": {
      "image/png": "[encoded data removed]",
      "text/plain": [
       "<Figure size 720x360 with 1 Axes>"
      ]
     },
     "metadata": {
      "needs_background": "light"
     },
     "output_type": "display_data"
    }
   ],
   "source": [
    "# Plot of top occuring words across all documents - a lot of these are stop words still\n",
    "plt.figure(figsize=(10,5))\n",
    "subred_1_df.sum().sort_values(ascending=False).head(10).plot(kind='barh', color='red')\n",
    "plt.title(\"Top 10 Single Words in Zombie Survival Reddit with Stopwords\", c='black', horizontalalignment='center')\n",
    "plt.ylabel(\"Top 10 Words\", size=10, c='black')\n",
    "plt.xlabel(\"Frequency\", c=\"black\")\n",
    "plt.savefig('./images/z_10_single_stopwords.png');"
   ]
  },
  {
   "cell_type": "markdown",
   "metadata": {},
   "source": [
    " \"make\", \"use\", \"weapon\", \"best\" seem to indicate those in the ZST (Zombie Survival Tactics Reddit) use language revolving inquiring about the best options available or to make to survive an outbreak."
   ]
  },
  {
   "cell_type": "code",
   "execution_count": 18,
   "metadata": {},
   "outputs": [
    {
     "data": {
      "text/html": [
       "<div>\n",
       "<style scoped>\n",
       "    .dataframe tbody tr th:only-of-type {\n",
       "        vertical-align: middle;\n",
       "    }\n",
       "\n",
       "    .dataframe tbody tr th {\n",
       "        vertical-align: top;\n",
       "    }\n",
       "\n",
       "    .dataframe thead th {\n",
       "        text-align: right;\n",
       "    }\n",
       "</style>\n",
       "<table border=\"1\" class=\"dataframe\">\n",
       "  <thead>\n",
       "    <tr style=\"text-align: right;\">\n",
       "      <th></th>\n",
       "      <th>title</th>\n",
       "      <th>selftext</th>\n",
       "      <th>subreddit</th>\n",
       "      <th>created_utc</th>\n",
       "      <th>author</th>\n",
       "      <th>num_comments</th>\n",
       "      <th>score</th>\n",
       "      <th>is_self</th>\n",
       "      <th>timestamp</th>\n",
       "      <th>all_text</th>\n",
       "    </tr>\n",
       "  </thead>\n",
       "  <tbody>\n",
       "    <tr>\n",
       "      <th>0</th>\n",
       "      <td>What have you prepared for ww3</td>\n",
       "      <td>I have been prepping since September. And had ...</td>\n",
       "      <td>0</td>\n",
       "      <td>1644716942</td>\n",
       "      <td>Vote_for_my_party</td>\n",
       "      <td>0</td>\n",
       "      <td>1</td>\n",
       "      <td>True</td>\n",
       "      <td>2022-02-12</td>\n",
       "      <td>what have you prepared for ww3 i have been pre...</td>\n",
       "    </tr>\n",
       "    <tr>\n",
       "      <th>1</th>\n",
       "      <td>Food storage</td>\n",
       "      <td>I trust you idiots more than Amazon reviews 😉\\...</td>\n",
       "      <td>0</td>\n",
       "      <td>1644722444</td>\n",
       "      <td>FrostyyFalcon</td>\n",
       "      <td>0</td>\n",
       "      <td>1</td>\n",
       "      <td>True</td>\n",
       "      <td>2022-02-12</td>\n",
       "      <td>food storage i trust you idiots more than amaz...</td>\n",
       "    </tr>\n",
       "    <tr>\n",
       "      <th>2</th>\n",
       "      <td>bug out buddies welcome</td>\n",
       "      <td>NaN</td>\n",
       "      <td>0</td>\n",
       "      <td>1644728273</td>\n",
       "      <td>nurseandmeddoctor</td>\n",
       "      <td>1</td>\n",
       "      <td>1</td>\n",
       "      <td>True</td>\n",
       "      <td>2022-02-12</td>\n",
       "      <td>bug out buddies welcome</td>\n",
       "    </tr>\n",
       "    <tr>\n",
       "      <th>3</th>\n",
       "      <td>Watch Online</td>\n",
       "      <td>I'm looking for a place/website to watch certa...</td>\n",
       "      <td>0</td>\n",
       "      <td>1644742724</td>\n",
       "      <td>Rocaine300</td>\n",
       "      <td>0</td>\n",
       "      <td>1</td>\n",
       "      <td>True</td>\n",
       "      <td>2022-02-13</td>\n",
       "      <td>watch online i'm looking for a place/website t...</td>\n",
       "    </tr>\n",
       "    <tr>\n",
       "      <th>4</th>\n",
       "      <td>Watch Online</td>\n",
       "      <td>I'm looking for a website/place to watch certa...</td>\n",
       "      <td>0</td>\n",
       "      <td>1644742990</td>\n",
       "      <td>The_Bawsz</td>\n",
       "      <td>0</td>\n",
       "      <td>1</td>\n",
       "      <td>True</td>\n",
       "      <td>2022-02-13</td>\n",
       "      <td>watch online i'm looking for a website/place t...</td>\n",
       "    </tr>\n",
       "  </tbody>\n",
       "</table>\n",
       "</div>"
      ],
      "text/plain": [
       "                            title  \\\n",
       "0  What have you prepared for ww3   \n",
       "1                    Food storage   \n",
       "2         bug out buddies welcome   \n",
       "3                    Watch Online   \n",
       "4                    Watch Online   \n",
       "\n",
       "                                            selftext  subreddit  created_utc  \\\n",
       "0  I have been prepping since September. And had ...          0   1644716942   \n",
       "1  I trust you idiots more than Amazon reviews 😉\\...          0   1644722444   \n",
       "2                                                NaN          0   1644728273   \n",
       "3  I'm looking for a place/website to watch certa...          0   1644742724   \n",
       "4  I'm looking for a website/place to watch certa...          0   1644742990   \n",
       "\n",
       "              author  num_comments  score  is_self   timestamp  \\\n",
       "0  Vote_for_my_party             0      1     True  2022-02-12   \n",
       "1      FrostyyFalcon             0      1     True  2022-02-12   \n",
       "2  nurseandmeddoctor             1      1     True  2022-02-12   \n",
       "3         Rocaine300             0      1     True  2022-02-13   \n",
       "4          The_Bawsz             0      1     True  2022-02-13   \n",
       "\n",
       "                                            all_text  \n",
       "0  what have you prepared for ww3 i have been pre...  \n",
       "1  food storage i trust you idiots more than amaz...  \n",
       "2                           bug out buddies welcome   \n",
       "3  watch online i'm looking for a place/website t...  \n",
       "4  watch online i'm looking for a website/place t...  "
      ]
     },
     "execution_count": 18,
     "metadata": {},
     "output_type": "execute_result"
    }
   ],
   "source": [
    "combined_db.head()"
   ]
  },
  {
   "cell_type": "code",
   "execution_count": 19,
   "metadata": {},
   "outputs": [],
   "source": [
    "# Subreddit 1's texts\n",
    "subred_1=combined_db[combined_db['subreddit']==1]['all_text']"
   ]
  },
  {
   "cell_type": "code",
   "execution_count": 19,
   "metadata": {},
   "outputs": [],
   "source": [
    "# Subreddit 1's texts\n",
    "subred_1=combined_db[combined_db['subreddit']==1]['all_text']"
   ]
  },
  {
   "cell_type": "code",
   "execution_count": 20,
   "metadata": {},
   "outputs": [
    {
     "data": {
      "text/plain": [
       "2400    do you guys think that a za gonna happen anyti...\n",
       "2401    voodoo zombies. they cannot be killed, how do ...\n",
       "2402    a zombie joke imagine fantasizing all your lif...\n",
       "2403    what would be your reaction to saviour type gr...\n",
       "2404    looking for a zombie apocalypse preparedness a...\n",
       "Name: all_text, dtype: object"
      ]
     },
     "execution_count": 20,
     "metadata": {},
     "output_type": "execute_result"
    }
   ],
   "source": [
    "subred_1.head()"
   ]
  },
  {
   "cell_type": "code",
   "execution_count": 21,
   "metadata": {},
   "outputs": [],
   "source": [
    "# Instiate and set parameters using stop words\n",
    "cvec = CountVectorizer(stop_words=my_stop_words,\n",
    "                       min_df=3, # Words must appear a minimum of 3 times\n",
    "                       max_df=.98, # Ignore words that appear in 98% of documents in the corpus.\n",
    "                       max_features=1_000,  # The top 1,000 words will be saved\n",
    "                       ngram_range=(2,3)\n",
    "                  )\n",
    "\n",
    "# Fit our vectorizier on our corpus\n",
    "cvec.fit(subred_1)\n",
    "\n",
    "# Transform the corpus\n",
    "subred_1 = cvec.transform(subred_1)"
   ]
  },
  {
   "cell_type": "code",
   "execution_count": 22,
   "metadata": {},
   "outputs": [],
   "source": [
    "## Check some of the word features stored in CountVectorizer with `get_feature_names`\n",
    "# cvec.get_feature_names()[100:150]"
   ]
  },
  {
   "cell_type": "code",
   "execution_count": 23,
   "metadata": {},
   "outputs": [],
   "source": [
    "# Convert X_train into a DataFrame.\n",
    "# We will not actually use this for modeling,\n",
    "# this is just to visualize what is happening\n",
    "subred_1_df = pd.DataFrame(subred_1.todense(), \n",
    "                          columns=cvec.get_feature_names())"
   ]
  },
  {
   "cell_type": "code",
   "execution_count": 23,
   "metadata": {},
   "outputs": [],
   "source": [
    "# Convert X_train into a DataFrame.\n",
    "# We will not actually use this for modeling,\n",
    "# this is just to visualize what is happening\n",
    "Full_df_txt_1 = pd.DataFrame(Full_df_txt.todense(), \n",
    "                          columns=cvec.get_feature_names())"
   ]
  },
  {
   "cell_type": "code",
   "execution_count": 24,
   "metadata": {},
   "outputs": [
    {
     "data": {
      "image/png": "[encoded data removed]",
      "text/plain": [
       "<Figure size 720x360 with 1 Axes>"
      ]
     },
     "metadata": {
      "needs_background": "light"
     },
     "output_type": "display_data"
    }
   ],
   "source": [
    "# Plot of top occuring words across all documents - a lot of these are stop words - articles\n",
    "plt.figure(figsize=(10,5))\n",
    "subred_1_df.sum().sort_values(ascending=False).head(10).plot(kind='barh', color='red')\n",
    "plt.title(\"Top 10 Bigrams in Zombie Survival Reddit with Stopwords\", c='black', horizontalalignment='center')\n",
    "plt.ylabel(\"Top 10 Bi-grams\", size=10, c='black')\n",
    "plt.xlabel(\"Frequency\", c=\"black\")\n",
    "plt.savefig('./images/z_10_bigrams_stopwords.png');"
   ]
  },
  {
   "cell_type": "code",
   "execution_count": 24,
   "metadata": {},
   "outputs": [
    {
     "data": {
      "image/png": "[encoded data removed]",
      "text/plain": [
       "<Figure size 720x360 with 1 Axes>"
      ]
     },
     "metadata": {
      "needs_background": "light"
     },
     "output_type": "display_data"
    }
   ],
   "source": [
    "# Plot of top occuring words across all documents - a lot of these are stop words - articles\n",
    "plt.figure(figsize=(10,5))\n",
    "Full_df_txt_1.sum().sort_values(ascending=False).head(10).plot(kind='barh', color='red')\n",
    "plt.title(\"Top 10 Bigrams in Zombie Survival Reddit with Stopwords\", c='black', horizontalalignment='center')\n",
    "plt.ylabel(\"Top 10 Bi-grams\", size=10, c='black')\n",
    "plt.xlabel(\"Frequency\", c=\"black\")\n",
    "plt.savefig('./images/z_10_bigrams_stopwords.png');"
   ]
  },
  {
   "cell_type": "markdown",
   "metadata": {},
   "source": [
    " Still not quite what imagined however, \"walking dead\",\"food water\",  \"melee weapon\", \"baseball bat\" are insightful bigrams.\n",
    " We do have double words like 'melee weapon' and 'melee weapons'. Lemmetizing or porter may be more useful here."
   ]
  },
  {
   "cell_type": "markdown",
   "metadata": {},
   "source": [
    "# Subreddit 2\n",
    "#### We are using count vectorizer to split and analyze the all_text columns in this section.\n",
    "#### Visualization of the following are provided:\n",
    "\n",
    "- Top 10 Most Frequently Occuring single words with and without stop-words\n",
    "- Top 10 Most Frequently Occuring Bi-grams"
   ]
  },
  {
   "cell_type": "code",
   "execution_count": 25,
   "metadata": {},
   "outputs": [],
   "source": [
    "# Subreddit 1's texts\n",
    "subred_0=combined_db[combined_db['subreddit']==0]['all_text']"
   ]
  },
  {
   "cell_type": "code",
   "execution_count": 26,
   "metadata": {},
   "outputs": [],
   "source": [
    "# Instiate and set parameters using stop words\n",
    "cvec = CountVectorizer( \n",
    "                       min_df=3, # Words must appear a minimum of 3 times\n",
    "                       max_df=.98, # Ignore words that appear in 98% of documents in the corpus.\n",
    "                       max_features=1_000,  # The top 1,000 words will be saved\n",
    "                       #ngram_range=(1,3)\n",
    "                      )\n",
    "\n",
    "# Fit our vectorizier on our corpus\n",
    "cvec.fit(subred_0)\n",
    "\n",
    "# Transform the corpus\n",
    "subred_0 = cvec.transform(subred_0)"
   ]
  },
  {
   "cell_type": "code",
   "execution_count": 27,
   "metadata": {},
   "outputs": [],
   "source": [
    "## Check some of the word features stored in CountVectorizer with `get_feature_names`\n",
    "# cvec.get_feature_names()[100:150]"
   ]
  },
  {
   "cell_type": "code",
   "execution_count": 28,
   "metadata": {},
   "outputs": [],
   "source": [
    "# Convert X_train into a DataFrame.\n",
    "# We will not actually use this for modeling,\n",
    "# this is just to visualize what is happening\n",
    "subred_0_df = pd.DataFrame(subred_0.todense(), \n",
    "                          columns=cvec.get_feature_names())"
   ]
  },
  {
   "cell_type": "code",
   "execution_count": 29,
   "metadata": {},
   "outputs": [
    {
     "data": {
      "image/png": "[encoded data removed]",
      "text/plain": [
       "<Figure size 720x360 with 1 Axes>"
      ]
     },
     "metadata": {
      "needs_background": "light"
     },
     "output_type": "display_data"
    }
   ],
   "source": [
    "# Plot of top occuring words across all documents - a lot of these are stop words - articles\n",
    "plt.figure(figsize=(10,5))\n",
    "subred_0_df.sum().sort_values(ascending=False).head(10).plot(kind='barh',  color='green')\n",
    "plt.title(\"Top 10 Words in Survival Reddit Without Stopwords\", c='black', horizontalalignment='center')\n",
    "plt.ylabel(\"Top 10 Words\", size=10, c='black')\n",
    "plt.xlabel(\"Frequency\", c=\"black\")\n",
    "plt.savefig('./images/s_10_single_no_stopwords.png');"
   ]
  },
  {
   "cell_type": "markdown",
   "metadata": {},
   "source": [
    " This is unhelpful to our model as the top words are mostly articles and stop words."
   ]
  },
  {
   "cell_type": "code",
   "execution_count": 35,
   "metadata": {},
   "outputs": [],
   "source": [
    "# Subreddit 1's texts\n",
    "subred_0=combined_db[combined_db['subreddit']==0]['all_text']"
   ]
  },
  {
   "cell_type": "code",
   "execution_count": 36,
   "metadata": {},
   "outputs": [],
   "source": [
    "# Instiate and set parameters using stop words\n",
    "cvec = CountVectorizer(stop_words=my_stop_words,\n",
    "                       min_df=3, # Words must appear a minimum of 3 times\n",
    "                       max_df=.98, # Ignore words that appear in 98% of documents in the corpus.\n",
    "                       max_features=1_000,  # The top 1,000 words will be saved\n",
    "                       ngram_range=(1,2)\n",
    "                      )\n",
    "\n",
    "# Fit our vectorizier on our corpus\n",
    "cvec.fit(subred_0)\n",
    "\n",
    "# Transform the corpus\n",
    "subred_0 = cvec.transform(subred_0)"
   ]
  },
  {
   "cell_type": "code",
   "execution_count": 37,
   "metadata": {},
   "outputs": [],
   "source": [
    "## Check some of the word features stored in CountVectorizer with `get_feature_names`\n",
    "# cvec.get_feature_names()[100:150]"
   ]
  },
  {
   "cell_type": "code",
   "execution_count": 38,
   "metadata": {},
   "outputs": [],
   "source": [
    "# Convert X_train into a DataFrame.\n",
    "# We will not actually use this for modeling,\n",
    "# this is just to visualize what is happening\n",
    "subred_0_df = pd.DataFrame(subred_0.todense(), \n",
    "                          columns=cvec.get_feature_names())"
   ]
  },
  {
   "cell_type": "code",
   "execution_count": 39,
   "metadata": {},
   "outputs": [
    {
     "data": {
      "image/png": "[encoded data removed]",
      "text/plain": [
       "<Figure size 720x360 with 1 Axes>"
      ]
     },
     "metadata": {
      "needs_background": "light"
     },
     "output_type": "display_data"
    }
   ],
   "source": [
    "# Plot of top occuring words across all documents - a lot of these are stop words still\n",
    "plt.figure(figsize=(10,5))\n",
    "subred_0_df.sum().sort_values(ascending=False).head(10).plot(kind='barh',  color='green')\n",
    "plt.title(\"Top 10 Single Words in Survival Reddit with Stopwords\", c='black', horizontalalignment='center')\n",
    "plt.ylabel(\"Top 10 Words\", size=10, c='black')\n",
    "plt.xlabel(\"Frequency\", c=\"black\")\n",
    "plt.savefig('./images/s_10_single_stopwords.png');"
   ]
  },
  {
   "cell_type": "markdown",
   "metadata": {},
   "source": [
    " In contrast to the ZST, the survival reddit seems to be centered around usefulness regarding words as \"good\", \"kit\", and potentially even \"time\" depending on the context.\n",
    "\"Water\" seems like the biggest concern for this group where as ZST had \"weapon\" being the most insightful word."
   ]
  },
  {
   "cell_type": "code",
   "execution_count": 40,
   "metadata": {},
   "outputs": [],
   "source": [
    "# Subreddit 1's texts\n",
    "subred_0=combined_db[combined_db['subreddit']==0]['all_text']"
   ]
  },
  {
   "cell_type": "code",
   "execution_count": 41,
   "metadata": {},
   "outputs": [],
   "source": [
    "# Instiate and set parameters using stop words\n",
    "cvec = CountVectorizer(stop_words=my_stop_words,\n",
    "                       min_df=3, # Words must appear a minimum of 3 times\n",
    "                       max_df=.98, # Ignore words that appear in 98% of documents in the corpus.\n",
    "                       max_features=1_000,  # The top 1,000 words will be saved\n",
    "                       ngram_range=(2,3)\n",
    "                      )\n",
    "\n",
    "# Fit our vectorizier on our corpus\n",
    "cvec.fit(subred_0)\n",
    "\n",
    "# Transform the corpus\n",
    "subred_0 = cvec.transform(subred_0)"
   ]
  },
  {
   "cell_type": "code",
   "execution_count": 42,
   "metadata": {},
   "outputs": [],
   "source": [
    "## Check some of the word features stored in CountVectorizer with `get_feature_names`\n",
    "# cvec.get_feature_names()[100:150]"
   ]
  },
  {
   "cell_type": "code",
   "execution_count": 43,
   "metadata": {},
   "outputs": [],
   "source": [
    "# Convert X_train into a DataFrame.\n",
    "# We will not actually use this for modeling,\n",
    "# this is just to visualize what is happening\n",
    "subred_0_df = pd.DataFrame(subred_0.todense(), \n",
    "                          columns=cvec.get_feature_names())"
   ]
  },
  {
   "cell_type": "code",
   "execution_count": 44,
   "metadata": {},
   "outputs": [
    {
     "data": {
      "image/png": "[encoded data removed]",
      "text/plain": [
       "<Figure size 720x360 with 1 Axes>"
      ]
     },
     "metadata": {
      "needs_background": "light"
     },
     "output_type": "display_data"
    }
   ],
   "source": [
    "# Plot of top occuring words across all documents - a lot of these are stop words \n",
    "plt.figure(figsize=(10,5))\n",
    "subred_0_df.sum().sort_values(ascending=False).head(10).plot(kind='barh', color='green')\n",
    "plt.title(\"Top 10 Bigrams in Survival Reddit with Stopwords\", c='black', horizontalalignment='center')\n",
    "plt.ylabel(\"Top 10 Bi-grams\", size=10, c='black')\n",
    "plt.xlabel(\"Frequency\", c=\"black\")\n",
    "plt.savefig('./images/s_10_bigrams_stopwords.png');"
   ]
  },
  {
   "cell_type": "markdown",
   "metadata": {},
   "source": [
    " This by far is the most informative graph as we see key pairings in the subreddit such as \"survival situation\",\"survival kit\", and \"wilderness survival\" leading, but also key words such as \"sleeping bag\", \"survival kit\", and even \"survival gear\""
   ]
  },
  {
   "cell_type": "markdown",
   "metadata": {},
   "source": [
    "# Preprocessing & Modeling\n",
    "I use NLP to train a classifier on which subreddit a given post came from using binary classification. I tried a variety of models from logistic regression using count vectorizer, multinomial naive bayes using tf-idf vectorizer, and random forest using count vectorizer and tf-idf vectorizer"
   ]
  },
  {
   "cell_type": "code",
   "execution_count": 38,
   "metadata": {},
   "outputs": [],
   "source": [
    "# Define X and y categories for our models\n",
    "combined_db=pd.read_csv('./datasets/combined_db.csv')\n",
    "X = combined_db['all_text']\n",
    "y = combined_db['subreddit']"
   ]
  },
  {
   "cell_type": "code",
   "execution_count": 39,
   "metadata": {},
   "outputs": [
    {
     "data": {
      "text/plain": [
       "1    0.5\n",
       "0    0.5\n",
       "Name: subreddit, dtype: float64"
      ]
     },
     "execution_count": 39,
     "metadata": {},
     "output_type": "execute_result"
    }
   ],
   "source": [
    "# Check the distribution of classes for balanced data which is perfectly balanced in this case at 50% for each class.\n",
    "# Based on a naive bayes model we would predict the majority class here\n",
    "y.value_counts(normalize = True)"
   ]
  },
  {
   "cell_type": "code",
   "execution_count": 40,
   "metadata": {},
   "outputs": [
    {
     "name": "stdout",
     "output_type": "stream",
     "text": [
      "(3216,)\n",
      "(1584,)\n"
     ]
    }
   ],
   "source": [
    "# Split the data into the training and testing sets for our models\n",
    "X_train, X_test, y_train, y_test = train_test_split (X,\n",
    "                                                    y,\n",
    "                                                    test_size=0.33,\n",
    "                                                    stratify=y,\n",
    "                                                    random_state=42)\n",
    "print(X_train.shape)\n",
    "print(X_test.shape)"
   ]
  },
  {
   "cell_type": "markdown",
   "metadata": {},
   "source": [
    "## Models\n",
    "Note: Model code adapted from General Assembly's NLP lessons"
   ]
  },
  {
   "cell_type": "markdown",
   "metadata": {},
   "source": [
    "# Count Vectorizer and Logistic Regression Model Test #1"
   ]
  },
  {
   "cell_type": "code",
   "execution_count": 44,
   "metadata": {},
   "outputs": [
    {
     "name": "stdout",
     "output_type": "stream",
     "text": [
      "Fitting 5 folds for each of 1728 candidates, totalling 8640 fits\n"
     ]
    },
    {
     "name": "stderr",
     "output_type": "stream",
     "text": [
      "[Parallel(n_jobs=-1)]: Using backend LokyBackend with 16 concurrent workers.\n",
      "[Parallel(n_jobs=-1)]: Done  18 tasks      | elapsed:    4.4s\n",
      "[Parallel(n_jobs=-1)]: Done 168 tasks      | elapsed:    8.7s\n",
      "[Parallel(n_jobs=-1)]: Done 418 tasks      | elapsed:   21.8s\n",
      "[Parallel(n_jobs=-1)]: Done 768 tasks      | elapsed:   37.7s\n",
      "[Parallel(n_jobs=-1)]: Done 1218 tasks      | elapsed:   56.5s\n",
      "[Parallel(n_jobs=-1)]: Done 1768 tasks      | elapsed:  1.4min\n",
      "[Parallel(n_jobs=-1)]: Done 2418 tasks      | elapsed:  1.9min\n",
      "[Parallel(n_jobs=-1)]: Done 3168 tasks      | elapsed:  2.4min\n",
      "[Parallel(n_jobs=-1)]: Done 4018 tasks      | elapsed:  3.1min\n",
      "[Parallel(n_jobs=-1)]: Done 4968 tasks      | elapsed:  3.8min\n",
      "[Parallel(n_jobs=-1)]: Done 6018 tasks      | elapsed:  4.6min\n",
      "[Parallel(n_jobs=-1)]: Done 7168 tasks      | elapsed:  5.5min\n",
      "[Parallel(n_jobs=-1)]: Done 8418 tasks      | elapsed:  6.5min\n",
      "[Parallel(n_jobs=-1)]: Done 8640 out of 8640 | elapsed:  6.8min finished\n"
     ]
    },
    {
     "name": "stdout",
     "output_type": "stream",
     "text": [
      "Best Params: {'cv__max_df': 0.65, 'cv__max_features': 3500, 'cv__min_df': 2, 'cv__ngram_range': (1, 2), 'lr__C': 1, 'lr__class_weight': None, 'lr__penalty': 'l2', 'lr__solver': 'liblinear'}\n",
      "Best Training Score: 0.9704601990049752\n",
      "Best Testing Score: 0.8516414141414141\n"
     ]
    }
   ],
   "source": [
    "# Instiate,set parameters, and establish a gridsearch and pipeline to find the best combinations for the model\n",
    "# The parameters have been adjusting after running the model numerous times\n",
    "\n",
    "pipe = Pipeline([\n",
    "    ('cv', CountVectorizer(stop_words=my_stop_words)),\n",
    "    ('lr', LogisticRegression())\n",
    "])\n",
    "\n",
    "params = {\n",
    "    'cv__min_df':[2, 3],\n",
    "    'cv__max_df': [.65, .70, .75,],\n",
    "    'cv__max_features': [2_000, 2_500, 3_000, 3_500],\n",
    "    'cv__ngram_range':[(1,1), (1,2), (2,3)],\n",
    "    \n",
    "    'lr__penalty':['l2', 'l1'],  #ridge or lasso\n",
    "    'lr__class_weight' : [None, 'balanced'],\n",
    "    'lr__solver': [ 'lbfgs', 'liblinear'], \n",
    "    'lr__C': [0.001, 1, 10]  #alpha\n",
    "}\n",
    "\n",
    "gs = GridSearchCV(pipe,\n",
    "                  params, \n",
    "                  cv=5, \n",
    "                  verbose=1, \n",
    "                  n_jobs=-1)\n",
    "\n",
    "gs.fit(X_train, y_train)\n",
    "\n",
    "print(f'Best Params: {gs.best_params_}')\n",
    "print(f'Best Training Score: {gs.score(X_train, y_train)}')           \n",
    "print(f'Best Testing Score: {gs.score(X_test, y_test)}')"
   ]
  },
  {
   "cell_type": "markdown",
   "metadata": {},
   "source": [
    "# Confusion Matrix code below"
   ]
  },
  {
   "cell_type": "code",
   "execution_count": 45,
   "metadata": {},
   "outputs": [],
   "source": [
    "# Generate predicitions\n",
    "preds = gs.predict(X_test)\n",
    "\n",
    "# Save confusion matrix values\n",
    "cm = confusion_matrix(y_test, preds)\n",
    "tn, fp, fn, tp = cm.ravel()"
   ]
  },
  {
   "cell_type": "code",
   "execution_count": 46,
   "metadata": {},
   "outputs": [
    {
     "data": {
      "image/png": "[encoded data removed]",
      "text/plain": [
       "<Figure size 432x288 with 2 Axes>"
      ]
     },
     "metadata": {
      "needs_background": "light"
     },
     "output_type": "display_data"
    }
   ],
   "source": [
    "# View confusion matrix\n",
    "plot_confusion_matrix(gs, X_test, y_test, cmap='Blues', values_format='d', display_labels=['Survival', 'ZST'])\n",
    "plt.savefig('./images/lr_cm.png');"
   ]
  },
  {
   "cell_type": "code",
   "execution_count": 47,
   "metadata": {},
   "outputs": [],
   "source": [
    "# Our model has incorrectly classified 166 subrredits as reddit 0 (Survival) - False Negative\n",
    "# Our model has incorrectly classified 71 subreddits as reddit 1 (Zombie Survival Tactics) - False Positives"
   ]
  },
  {
   "cell_type": "code",
   "execution_count": 48,
   "metadata": {},
   "outputs": [
    {
     "name": "stdout",
     "output_type": "stream",
     "text": [
      "Accuracy Score : 0.8516414141414141\n",
      "Precision Score : 0.8862690707350902\n",
      "Sensitivity Score (Recall) : 0.8068181818181818\n",
      "Specificity: 0.8964646464646465\n",
      "F1 Score: 0.8446794448116326\n"
     ]
    }
   ],
   "source": [
    "# https://towardsdatascience.com/grid-search-for-model-tuning-3319b259367e\n",
    "print('Accuracy Score : ' + str(accuracy_score(y_test, preds))) # % of obs guess correctly\n",
    "print('Precision Score : ' + str(precision_score(y_test,preds))) # correctly predicted the true positives out of all the positive predictions made? \n",
    "print('Sensitivity Score (Recall) : ' + str(recall_score(y_test,preds))) #  of all the positive classs guess how many did I get correct (1's-ZST) \n",
    "print(f\"Specificity: {tn/ (tn + fp)}\") # of all the negatives class how many did I get correct. The moidel is doing the best at predicting the negatives\n",
    "print('F1 Score: '+ str(f1_score(y_test, preds))) #the balance of sensitivity and precision # We are doing 34% better than baseline of 50/50."
   ]
  },
  {
   "cell_type": "markdown",
   "metadata": {},
   "source": [
    "# Next we'll try our other model and compare the results\n",
    "- TF-IDF and Multinomial Naive Bayes - Model Test #2"
   ]
  },
  {
   "cell_type": "code",
   "execution_count": 91,
   "metadata": {},
   "outputs": [
    {
     "name": "stdout",
     "output_type": "stream",
     "text": [
      "Fitting 5 folds for each of 96 candidates, totalling 480 fits\n"
     ]
    },
    {
     "name": "stderr",
     "output_type": "stream",
     "text": [
      "[Parallel(n_jobs=-1)]: Using backend LokyBackend with 16 concurrent workers.\n",
      "[Parallel(n_jobs=-1)]: Done  18 tasks      | elapsed:    0.7s\n",
      "[Parallel(n_jobs=-1)]: Done 168 tasks      | elapsed:    5.5s\n",
      "[Parallel(n_jobs=-1)]: Done 418 tasks      | elapsed:   13.5s\n",
      "[Parallel(n_jobs=-1)]: Done 480 out of 480 | elapsed:   15.8s finished\n"
     ]
    },
    {
     "name": "stdout",
     "output_type": "stream",
     "text": [
      "Best Params: {'mnb__alpha': 1, 'tvec__max_df': 0.65, 'tvec__max_features': 4400, 'tvec__min_df': 2, 'tvec__ngram_range': (1, 1)}\n",
      "Best Training Score: 0.9328358208955224\n",
      "Best Testing Score: 0.8768939393939394\n"
     ]
    }
   ],
   "source": [
    "# The parameters have been adjusting after running the model numerous times\n",
    "\n",
    "\n",
    "# Let's set a pipeline up with two stages:\n",
    "# 1. tf-idf vectorizer (transformer)\n",
    "# 2. Multinomial Naive Bayes (estimator)\n",
    "\n",
    "\n",
    "pipe_tvec=Pipeline([\n",
    "    (\"tvec\", TfidfVectorizer(stop_words=my_stop_words)),\n",
    "    (\"mnb\", MultinomialNB())\n",
    "])\n",
    "\n",
    "\n",
    "pipe_tvec_params = {\n",
    "    \"tvec__max_features\":[4_300, 4_400, 4_500], ## keeps the N most frequently occuring terms\n",
    "    \"tvec__ngram_range\":[(1,1), (1,2)], ## include 1-grams, or both 1-grams and 2-grams    \n",
    "    \"tvec__min_df\":[2, 3], ## remove words that don't show up enough\n",
    "    \"tvec__max_df\": [.65, .70], ## remove words that show up too much\n",
    "    'mnb__alpha':[0.001, 0.0001, 1, 10]\n",
    "}\n",
    "gs_tvec = GridSearchCV(estimator = pipe_tvec, # we are optimizing on pip_tvec\n",
    "                  param_grid = pipe_tvec_params, # set params\n",
    "                  cv = 5, # 5-fold cross-validation.\n",
    "                  verbose = 1,\n",
    "                 n_jobs=-1)\n",
    "\n",
    "# Fit GridSearch to training data.\n",
    "gs_tvec.fit(X_train, y_train)\n",
    "\n",
    "\n",
    "print(f'Best Params: {gs_tvec.best_params_}')\n",
    "print(f'Best Training Score: {gs_tvec.score(X_train, y_train)}')           \n",
    "print(f'Best Testing Score: {gs_tvec.score(X_test, y_test)}')"
   ]
  },
  {
   "cell_type": "code",
   "execution_count": 92,
   "metadata": {},
   "outputs": [
    {
     "data": {
      "image/png": "[encoded data removed]",
      "text/plain": [
       "<Figure size 432x288 with 2 Axes>"
      ]
     },
     "metadata": {
      "needs_background": "light"
     },
     "output_type": "display_data"
    }
   ],
   "source": [
    "# visualize this (by plotting the confusion matrix)\n",
    "plot_confusion_matrix(gs_tvec, X_test, y_test, cmap=\"Blues\", values_format=\"d\",display_labels=['Survival', 'ZST'])\n",
    "plt.savefig('./images/mnb_cm.png');"
   ]
  },
  {
   "cell_type": "code",
   "execution_count": 93,
   "metadata": {},
   "outputs": [
    {
     "name": "stdout",
     "output_type": "stream",
     "text": [
      "Accuracy Score : 0.8768939393939394\n",
      "Precision Score : 0.8698884758364313\n",
      "Sensitivity Score (Recall) : 0.8863636363636364\n",
      "F1 Score: 0.8780487804878049\n"
     ]
    }
   ],
   "source": [
    "preds_tvec = gs_tvec.predict(X_test)\n",
    "\n",
    "print('Accuracy Score : ' + str(accuracy_score(y_test, preds_tvec))) # % of obs guess correctly\n",
    "print('Precision Score : ' + str(precision_score(y_test,preds_tvec))) # correctly predicted the true positives out of all the positive predictions made? \n",
    "print('Sensitivity Score (Recall) : ' + str(recall_score(y_test,preds_tvec))) #  of all the positive classs guess how many did I get correct (1's-ZST) \n",
    "print('F1 Score: '+ str(f1_score(y_test, preds_tvec))) #the balance of sensitivity and precision # We are doing 37% better than baseline of 50/50."
   ]
  },
  {
   "cell_type": "markdown",
   "metadata": {},
   "source": [
    "Compared to the logistic regression model our training, test, and all our evaluation scores improved using a TF-IDF and Multinomial Naive Bayes model. The MNB model had an 18% improvement in classification accuracy over our logistic regression. This could be because multinomial naive baye classifiers are more suitable for text classification problems."
   ]
  },
  {
   "cell_type": "markdown",
   "metadata": {},
   "source": [
    "## Using TfidfTransformer to gridsearch between CountVectorizer and TfidfVectorizer with Random Forest - Model test #3"
   ]
  },
  {
   "cell_type": "code",
   "execution_count": 64,
   "metadata": {},
   "outputs": [
    {
     "name": "stdout",
     "output_type": "stream",
     "text": [
      "Fitting 5 folds for each of 3456 candidates, totalling 17280 fits\n"
     ]
    },
    {
     "name": "stderr",
     "output_type": "stream",
     "text": [
      "[Parallel(n_jobs=6)]: Using backend LokyBackend with 6 concurrent workers.\n",
      "[Parallel(n_jobs=6)]: Done  38 tasks      | elapsed:    4.8s\n",
      "[Parallel(n_jobs=6)]: Done 188 tasks      | elapsed:   15.8s\n",
      "[Parallel(n_jobs=6)]: Done 438 tasks      | elapsed:   35.1s\n",
      "[Parallel(n_jobs=6)]: Done 788 tasks      | elapsed:  1.1min\n",
      "[Parallel(n_jobs=6)]: Done 1238 tasks      | elapsed:  1.7min\n",
      "[Parallel(n_jobs=6)]: Done 1788 tasks      | elapsed:  2.7min\n",
      "[Parallel(n_jobs=6)]: Done 2438 tasks      | elapsed:  4.3min\n",
      "[Parallel(n_jobs=6)]: Done 3188 tasks      | elapsed:  5.7min\n",
      "[Parallel(n_jobs=6)]: Done 4038 tasks      | elapsed:  6.8min\n",
      "[Parallel(n_jobs=6)]: Done 4988 tasks      | elapsed:  8.6min\n",
      "[Parallel(n_jobs=6)]: Done 6038 tasks      | elapsed: 10.7min\n",
      "[Parallel(n_jobs=6)]: Done 7188 tasks      | elapsed: 12.1min\n",
      "[Parallel(n_jobs=6)]: Done 8438 tasks      | elapsed: 14.9min\n",
      "[Parallel(n_jobs=6)]: Done 9788 tasks      | elapsed: 16.8min\n",
      "[Parallel(n_jobs=6)]: Done 11238 tasks      | elapsed: 19.8min\n",
      "[Parallel(n_jobs=6)]: Done 12788 tasks      | elapsed: 22.1min\n",
      "[Parallel(n_jobs=6)]: Done 14438 tasks      | elapsed: 25.8min\n",
      "[Parallel(n_jobs=6)]: Done 16188 tasks      | elapsed: 28.4min\n",
      "[Parallel(n_jobs=6)]: Done 17280 out of 17280 | elapsed: 31.0min finished\n"
     ]
    },
    {
     "name": "stdout",
     "output_type": "stream",
     "text": [
      "Best Params: {'cvec__max_features': 3500, 'cvec__min_df': 3, 'cvec__ngram_range': (1, 1), 'rf__ccp_alpha': 0.0001, 'rf__class_weight': 'balanced', 'rf__max_depth': 20, 'rf__min_samples_leaf': 1, 'rf__min_samples_split': 2, 'rf__n_estimators': 100, 'tfidf__use_idf': False}\n",
      "Best Training Score: 0.888681592039801\n",
      "Best Testing Score: 0.803030303030303\n"
     ]
    }
   ],
   "source": [
    "# The parameters have been adjusting after running the model numerous times\n",
    "\n",
    "# Let's set a pipeline up with three stages:\n",
    "# 1. CountVectorizer (transformer)\n",
    "# 2. TfidfTransformer (transformer) - allows us the option of applying IDF\n",
    "# 2. Random Forest Classifier (estimator)\n",
    "X_train, X_test, y_train, y_test = train_test_split(X, y, test_size = 0.33,\n",
    "                                                     stratify=y, random_state=42)\n",
    "\n",
    "cvec_idf_pipe = Pipeline([\n",
    "    ('cvec', CountVectorizer(stop_words=my_stop_words)),\n",
    "    ('tfidf', TfidfTransformer()),\n",
    "    ('rf', RandomForestClassifier())\n",
    "])\n",
    "\n",
    "pipe_params_cidf = {\n",
    "        'cvec__max_features' : [2_500, 3_000, 3_500],\n",
    "        'cvec__ngram_range' : [(1,1), (1,2)],\n",
    "        'cvec__min_df' : [2, 3],\n",
    "        'tfidf__use_idf' : [True, False] ,\n",
    "        'rf__ccp_alpha': [ 0.0001, 0.001], \n",
    "        'rf__n_estimators': [50, 75, 100],\n",
    "        'rf__max_depth' : [10, 15, 20],\n",
    "        'rf__min_samples_leaf': [1, 2], \n",
    "        'rf__min_samples_split': [2, 3],\n",
    "        'rf__class_weight' : [None, \"balanced\"]\n",
    "}\n",
    "\n",
    "\n",
    "# Instantiate GridSearchCV.\n",
    "gs_cvec_idf = GridSearchCV(cvec_idf_pipe,\n",
    "                      param_grid=pipe_params_cidf,\n",
    "                      cv=5,\n",
    "                      verbose=1,\n",
    "                      n_jobs=6)\n",
    "\n",
    "\n",
    "\n",
    "# Fit GridSearch to training data.\n",
    "gs_cvec_idf.fit(X_train, y_train)\n",
    "\n",
    "print(f'Best Params: {gs_cvec_idf.best_params_}')\n",
    "print(f'Best Training Score: {gs_cvec_idf.score(X_train, y_train)}')           \n",
    "print(f'Best Testing Score: {gs_cvec_idf.score(X_test, y_test)}')"
   ]
  },
  {
   "cell_type": "code",
   "execution_count": 65,
   "metadata": {},
   "outputs": [
    {
     "data": {
      "image/png": "[encoded data removed]",
      "text/plain": [
       "<Figure size 432x288 with 2 Axes>"
      ]
     },
     "metadata": {
      "needs_background": "light"
     },
     "output_type": "display_data"
    }
   ],
   "source": [
    "# visualize this (by plotting the confusion matrix)\n",
    "plot_confusion_matrix(gs_cvec_idf, X_test, y_test, cmap=\"Blues\", values_format=\"d\",display_labels=['Survival', 'ZST'])\n",
    "plt.savefig('./images/rf_cm.png');;"
   ]
  },
  {
   "cell_type": "code",
   "execution_count": 67,
   "metadata": {},
   "outputs": [
    {
     "name": "stdout",
     "output_type": "stream",
     "text": [
      "Accuracy Score : 0.803030303030303\n",
      "Precision Score : 0.875\n",
      "Sensitivity Score : 0.7070707070707071\n",
      "F1 Score: 0.7821229050279329\n"
     ]
    }
   ],
   "source": [
    "# Get predictions\n",
    "preds_cvec_idf = gs_cvec_idf.predict(X_test)\n",
    "\n",
    "# Save confusion matrix values\n",
    "tn, fp, fn, tp = confusion_matrix(y_test, preds_cvec_idf ).ravel()\n",
    "\n",
    "print('Accuracy Score : ' + str(accuracy_score(y_test, preds_cvec_idf))) # % of obs guess correctly\n",
    "print('Precision Score : ' + str(precision_score(y_test,preds_cvec_idf))) # correctly predicted the true positives out of all the positive predictions made? \n",
    "print('Sensitivity Score : ' + str(recall_score(y_test,preds_cvec_idf))) #  How many of the positive class guessed correctly of all the positives (1's-ZST) \n",
    "print('F1 Score: '+ str(f1_score(y_test, preds_cvec_idf))) # We are doing 28% better than baseline of 50/50."
   ]
  },
  {
   "cell_type": "markdown",
   "metadata": {},
   "source": [
    "## Model comparison"
   ]
  },
  {
   "cell_type": "code",
   "execution_count": 95,
   "metadata": {},
   "outputs": [
    {
     "name": "stdout",
     "output_type": "stream",
     "text": [
      "~~~~~~~~~~~~~~~~~\n",
      "Logistic Regression with CVEC\n",
      "Best Params: {'cv__max_df': 0.65, 'cv__max_features': 3500, 'cv__min_df': 2, 'cv__ngram_range': (1, 2), 'lr__C': 1, 'lr__class_weight': None, 'lr__penalty': 'l2', 'lr__solver': 'liblinear'}\n",
      "Best Training Score: 0.9704601990049752\n",
      "Best Testing Score: 0.8516414141414141\n",
      "Accuracy Score : 0.8516414141414141\n",
      "Precision Score : 0.8862690707350902\n",
      "Sensitivity Score (Recall) : 0.8068181818181818\n",
      "Specificity: 0.898989898989899\n",
      "F1 Score: 0.8446794448116326\n",
      "~~~~~~~~~~~~~~~~~\n",
      "MNB with TF-IDF\n",
      "Best Params: {'mnb__alpha': 1, 'tvec__max_df': 0.65, 'tvec__max_features': 4400, 'tvec__min_df': 2, 'tvec__ngram_range': (1, 1)}\n",
      "Best Training Score: 0.9328358208955224\n",
      "Best Testing Score: 0.8768939393939394\n",
      "Accuracy Score : 0.8768939393939394\n",
      "Precision Score : 0.8698884758364313\n",
      "Sensitivity Score (Recall) : 0.8863636363636364\n",
      "F1 Score: 0.8780487804878049\n",
      "~~~~~~~~~~~~~~~~~\n",
      "RF with CVEC\n",
      "Best Params: {'cvec__max_features': 3500, 'cvec__min_df': 3, 'cvec__ngram_range': (1, 1), 'rf__ccp_alpha': 0.0001, 'rf__class_weight': 'balanced', 'rf__max_depth': 20, 'rf__min_samples_leaf': 1, 'rf__min_samples_split': 2, 'rf__n_estimators': 100, 'tfidf__use_idf': False}\n",
      "Best Training Score: 0.888681592039801\n",
      "Best Testing Score: 0.803030303030303\n",
      "Accuracy Score : 0.803030303030303\n",
      "Precision Score : 0.875\n",
      "Sensitivity Score : 0.7070707070707071\n",
      "F1 Score: 0.7821229050279329\n"
     ]
    }
   ],
   "source": [
    "print('~~~~~~~~~~~~~~~~~')\n",
    "print(f'Logistic Regression with CVEC')\n",
    "print(f'Best Params: {gs.best_params_}')\n",
    "print(f'Best Training Score: {gs.score(X_train, y_train)}')           \n",
    "print(f'Best Testing Score: {gs.score(X_test, y_test)}')\n",
    "print('Accuracy Score : ' + str(accuracy_score(y_test, preds))) \n",
    "print('Precision Score : ' + str(precision_score(y_test,preds))) \n",
    "print('Sensitivity Score (Recall) : ' + str(recall_score(y_test,preds))) \n",
    "print(f\"Specificity: {tn/ (tn + fp)}\") \n",
    "print('F1 Score: '+ str(f1_score(y_test, preds))) \n",
    "\n",
    "print('~~~~~~~~~~~~~~~~~')\n",
    "print(f'MNB with TF-IDF')\n",
    "print(f'Best Params: {gs_tvec.best_params_}')\n",
    "print(f'Best Training Score: {gs_tvec.score(X_train, y_train)}')           \n",
    "print(f'Best Testing Score: {gs_tvec.score(X_test, y_test)}')\n",
    "print('Accuracy Score : ' + str(accuracy_score(y_test, preds_tvec)))\n",
    "print('Precision Score : ' + str(precision_score(y_test,preds_tvec))) \n",
    "print('Sensitivity Score (Recall) : ' + str(recall_score(y_test,preds_tvec))) \n",
    "print('F1 Score: '+ str(f1_score(y_test, preds_tvec)))\n",
    "\n",
    "print('~~~~~~~~~~~~~~~~~')\n",
    "print(f'RF with CVEC')\n",
    "print(f'Best Params: {gs_cvec_idf.best_params_}')\n",
    "print(f'Best Training Score: {gs_cvec_idf.score(X_train, y_train)}')           \n",
    "print(f'Best Testing Score: {gs_cvec_idf.score(X_test, y_test)}')\n",
    "print('Accuracy Score : ' + str(accuracy_score(y_test, preds_cvec_idf))) \n",
    "print('Precision Score : ' + str(precision_score(y_test,preds_cvec_idf))) \n",
    "print('Sensitivity Score : ' + str(recall_score(y_test,preds_cvec_idf)))\n",
    "print('F1 Score: '+ str(f1_score(y_test, preds_cvec_idf))) \n",
    "\n"
   ]
  },
  {
   "cell_type": "markdown",
   "metadata": {},
   "source": [
    "After cleaning, plotting, and numerous (logistic regression with count vec, multinomial naive bayes with tdidf and stopwords, random forest with count vec) model testing on the all_text column, the best performing model was the mnb with tdidf. Comparing the three models the random forest model performed the worst. It has the lowest performing metric scores of all the models across the board and has the highest amount of misclassifications. While the variance between the train and test is only 8% compared to the logistic regression with a 12% difference, but the mnb model still has the lowest difference at 6%. The MNB model has the highest accuracy with the least amount of misclassifications coming it at 87%. It has the lowest precision score by just 2% range still fairing well in prediction true positives from all positive preditions.\n",
    "\n",
    "The MNB model has the highest accuracy with the least amount of misclassifications coming it at 87%. It has the lowest precision score by just 2% range still fairing well in prediction true positives from all positive predictions. The mnb model had the highest sensitivity score showing can reduce false negatives much better than the other models. Its f1 score has the highest balance between precision and sensitivity. The after multiple parameter tuning the lowest max__df and highest max_features seemed to generate the best scores. Because multinomial naive bayes classifiers are more suitable for text classification problems this could be the reason it faired better than the other models.  While there is still room for improvement, the mnb model is our chosen model as it classifies reddit posts with the highest accuracy."
   ]
  },
  {
   "cell_type": "markdown",
   "metadata": {},
   "source": [
    "## Bonus!\n",
    "### MNB with TFIDF without stop words\n",
    "- To see how easily our best model can predict the subreddit without the limit of strong giveaway words like \"zombie\" and \"apocalypse\""
   ]
  },
  {
   "cell_type": "code",
   "execution_count": 88,
   "metadata": {},
   "outputs": [
    {
     "name": "stdout",
     "output_type": "stream",
     "text": [
      "Fitting 5 folds for each of 96 candidates, totalling 480 fits\n"
     ]
    },
    {
     "name": "stderr",
     "output_type": "stream",
     "text": [
      "[Parallel(n_jobs=-1)]: Using backend LokyBackend with 16 concurrent workers.\n",
      "[Parallel(n_jobs=-1)]: Done  18 tasks      | elapsed:    4.6s\n",
      "[Parallel(n_jobs=-1)]: Done 168 tasks      | elapsed:   11.1s\n",
      "[Parallel(n_jobs=-1)]: Done 418 tasks      | elapsed:   22.4s\n",
      "[Parallel(n_jobs=-1)]: Done 480 out of 480 | elapsed:   25.4s finished\n"
     ]
    },
    {
     "name": "stdout",
     "output_type": "stream",
     "text": [
      "Best Params: {'mb__alpha': 0.001, 'tvec__max_df': 0.65, 'tvec__max_features': 4300, 'tvec__min_df': 2, 'tvec__ngram_range': (1, 2)}\n",
      "Best Training Score: 0.9402985074626866\n",
      "Best Testing Score: 0.9065656565656566\n"
     ]
    }
   ],
   "source": [
    "# The parameters have been adjusting after running the model numerous times\n",
    "\n",
    "\n",
    "# Let's set a pipeline up with two stages:\n",
    "# 1. tf-idf vectorizer (transformer)\n",
    "# 2. Multinomial Naive Bayes (estimator)\n",
    "\n",
    "\n",
    "pipe_tvec=Pipeline([\n",
    "    (\"tvec\", TfidfVectorizer()),\n",
    "    (\"mb\", MultinomialNB())\n",
    "])\n",
    "\n",
    "\n",
    "pipe_tvec_params = {\n",
    "    \"tvec__max_features\":[4_300, 4_400, 4_500], ## keeps the N most frequently occuring terms\n",
    "    \"tvec__ngram_range\":[(1,1), (1,2)], ## include 1-grams, or both 1-grams and 2-grams    \n",
    "    \"tvec__min_df\":[2, 3], ## remove words that don't show up enough\n",
    "    \"tvec__max_df\": [.65, .70], ## remove words that show up too much\n",
    "    'mb__alpha':[0.001, 0.0001, 1, 10]\n",
    "}\n",
    "gs_tvecs = GridSearchCV(estimator = pipe_tvec, # we are optimizing on pip_tvec\n",
    "                  param_grid = pipe_tvec_params, # set params\n",
    "                  cv = 5, # 5-fold cross-validation.\n",
    "                  verbose = 1,\n",
    "                 n_jobs=-1)\n",
    "\n",
    "# Fit GridSearch to training data.\n",
    "gs_tvecs.fit(X_train, y_train)\n",
    "\n",
    "\n",
    "print(f'Best Params: {gs_tvecs.best_params_}')\n",
    "print(f'Best Training Score: {gs_tvecs.score(X_train, y_train)}')           \n",
    "print(f'Best Testing Score: {gs_tvecs.score(X_test, y_test)}')"
   ]
  },
  {
   "cell_type": "code",
   "execution_count": 89,
   "metadata": {},
   "outputs": [
    {
     "data": {
      "image/png": "[encoded data removed]",
      "text/plain": [
       "<Figure size 432x288 with 2 Axes>"
      ]
     },
     "metadata": {
      "needs_background": "light"
     },
     "output_type": "display_data"
    }
   ],
   "source": [
    "# visualize this (by plotting the confusion matrix)\n",
    "plot_confusion_matrix(gs_tvecs, X_test, y_test, cmap=\"Blues\", values_format=\"d\",display_labels=['Survival', 'ZST'])\n",
    "plt.savefig('./images/mnb_no_stop_words_cm.png');"
   ]
  },
  {
   "cell_type": "code",
   "execution_count": 90,
   "metadata": {},
   "outputs": [
    {
     "name": "stdout",
     "output_type": "stream",
     "text": [
      "Accuracy Score : 0.9065656565656566\n",
      "Precision Score : 0.8955773955773956\n",
      "Sensitivity Score (Recall) : 0.9204545454545454\n",
      "F1 Score: 0.9078455790784558\n"
     ]
    }
   ],
   "source": [
    "preds_tvec = gs_tvecs.predict(X_test)\n",
    "\n",
    "print('Accuracy Score : ' + str(accuracy_score(y_test, preds_tvec))) # % of obs guess correctly\n",
    "print('Precision Score : ' + str(precision_score(y_test,preds_tvec))) # correctly predicted the true positives out of all the positive predictions made? \n",
    "print('Sensitivity Score (Recall) : ' + str(recall_score(y_test,preds_tvec))) #  of all the positive classs guess how many did I get correct (1's-ZST) \n",
    "print('F1 Score: '+ str(f1_score(y_test, preds_tvec))) #the balance of sensitivity and precision # We are doing 37% better than baseline of 50/50."
   ]
  },
  {
   "cell_type": "markdown",
   "metadata": {},
   "source": [
    "Sure enough training score increased by 1%, and testing score by 3%. The metric scores are the highest across the board without the TDIDF stop words. The sensitivity increased by 4%, precision by 2%, and both accuracy and f1 by 3%. "
   ]
  },
  {
   "cell_type": "markdown",
   "metadata": {},
   "source": [
    "# Conclusion/Final Recommendations\n",
    "- Multinomial Naive Bayes is the best performing model to properly classify subreddit post origins. It had the highest accuracy and the best sensitivity score across the board minimizing  false negatives\n",
    "- If strong identifying words like \"zombie\" and \"apocalypse were to be removed the training and test scores jump to 90% and 94% respectively with the highest metric scores\n",
    "- As my goal was to optimize in accuracy and reducing misclassifications the MNB fits the goals wells\n",
    "\n",
    "My recommendation for the television and movie market is to use multinomial naive bayes modeling to accurately identify the topics, discussions, and desires of survivalist, preppers, and doomsday zombie fans. The insight gained would allow for a potential greater audience to be reached and accurately catering to their needs and making hit shows like The Walking Dead which was the top occurring bigram in the Zombie Survival Tactic subreddit. With 3.7 million Americans classifying themselves as survivalist, 14% having zombie survival plan, and a $107 billion survivalist market the potential to make not only shows, movies, but also products aimed in survival situations could lead to a greater ROI as both subreddits had \"use, \"best\", and \"good\" as top words. A future study should be explored using poll data, using lemmatization, and the /r/Preppers subreddit to provide greater insight to this target market as well.\n",
    "\n",
    "## References: \n",
    "- https://www.reddit.com/r/Survival/\n",
    "- https://www.reddit.com/r/ZombieSurvivalTactics/\n",
    "- https://thinkgrowth.org/the-doom-boom-inside-the-survival-industry-s-explosive-growth-2fece1f6cd6c\n",
    "- https://trends.google.com/trends/explore?date=today%205-y&geo=US&q=survival,zombie\n",
    "- https://today.yougov.com/topics/entertainment/articles-reports/2019/10/01/zombie-apocalypse-plan\n",
    "- https://thehustle.co/coronavirus-prepping-doomsday-business/\n",
    "- https://www.alliedmarketresearch.com/incident-and-emergency-management-market\n"
   ]
  },
  {
   "cell_type": "code",
   "execution_count": null,
   "metadata": {},
   "outputs": [],
   "source": []
  }
 ],
 "metadata": {
  "kernelspec": {
   "display_name": "Python 3 (ipykernel)",
   "language": "python",
   "name": "python3"
  },
  "language_info": {
   "codemirror_mode": {
    "name": "ipython",
    "version": 3
   },
   "file_extension": ".py",
   "mimetype": "text/x-python",
   "name": "python",
   "nbconvert_exporter": "python",
   "pygments_lexer": "ipython3",
   "version": "3.8.5"
  }
 },
 "nbformat": 4,
 "nbformat_minor": 4
}
